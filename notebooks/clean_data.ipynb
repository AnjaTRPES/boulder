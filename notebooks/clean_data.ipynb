{
 "metadata": {
  "language_info": {
   "codemirror_mode": {
    "name": "ipython",
    "version": 3
   },
   "file_extension": ".py",
   "mimetype": "text/x-python",
   "name": "python",
   "nbconvert_exporter": "python",
   "pygments_lexer": "ipython3",
   "version": "3.8.5-final"
  },
  "orig_nbformat": 2,
  "kernelspec": {
   "name": "Python 3.8.5 64-bit",
   "display_name": "Python 3.8.5 64-bit",
   "metadata": {
    "interpreter": {
     "hash": "af7e8b858a93f87b8b5b1435451d182fd8be0d4fe9a6c5347e65a1845e5f755f"
    }
   }
  }
 },
 "nbformat": 4,
 "nbformat_minor": 2,
 "cells": [
  {
   "cell_type": "code",
   "execution_count": 2,
   "metadata": {},
   "outputs": [],
   "source": [
    "import pandas as pd"
   ]
  },
  {
   "cell_type": "code",
   "execution_count": 3,
   "metadata": {},
   "outputs": [],
   "source": [
    "boulder_data = pd.read_csv(\"~/Desktop/coding/boulder_data/boulderdata.csv\")"
   ]
  },
  {
   "cell_type": "code",
   "execution_count": 4,
   "metadata": {},
   "outputs": [
    {
     "output_type": "execute_result",
     "data": {
      "text/plain": [
       "        gym_name      current_time  occupancy  waiting  weather_temp  \\\n",
       "0      frankfurt  2020/10/29 18:31       61.0      0.0         10.95   \n",
       "1  muenchen-west  2020/10/29 18:31       27.0      0.0          9.22   \n",
       "2   muenchen-ost  2020/10/29 18:31      100.0     14.0          9.22   \n",
       "3       dortmund  2020/10/29 18:31       56.0      0.0         10.00   \n",
       "4     regensburg  2020/10/29 18:31       68.0      0.0          7.42   \n",
       "\n",
       "  weather_status  \n",
       "0           Rain  \n",
       "1           Rain  \n",
       "2           Rain  \n",
       "3           Rain  \n",
       "4           Rain  "
      ],
      "text/html": "<div>\n<style scoped>\n    .dataframe tbody tr th:only-of-type {\n        vertical-align: middle;\n    }\n\n    .dataframe tbody tr th {\n        vertical-align: top;\n    }\n\n    .dataframe thead th {\n        text-align: right;\n    }\n</style>\n<table border=\"1\" class=\"dataframe\">\n  <thead>\n    <tr style=\"text-align: right;\">\n      <th></th>\n      <th>gym_name</th>\n      <th>current_time</th>\n      <th>occupancy</th>\n      <th>waiting</th>\n      <th>weather_temp</th>\n      <th>weather_status</th>\n    </tr>\n  </thead>\n  <tbody>\n    <tr>\n      <th>0</th>\n      <td>frankfurt</td>\n      <td>2020/10/29 18:31</td>\n      <td>61.0</td>\n      <td>0.0</td>\n      <td>10.95</td>\n      <td>Rain</td>\n    </tr>\n    <tr>\n      <th>1</th>\n      <td>muenchen-west</td>\n      <td>2020/10/29 18:31</td>\n      <td>27.0</td>\n      <td>0.0</td>\n      <td>9.22</td>\n      <td>Rain</td>\n    </tr>\n    <tr>\n      <th>2</th>\n      <td>muenchen-ost</td>\n      <td>2020/10/29 18:31</td>\n      <td>100.0</td>\n      <td>14.0</td>\n      <td>9.22</td>\n      <td>Rain</td>\n    </tr>\n    <tr>\n      <th>3</th>\n      <td>dortmund</td>\n      <td>2020/10/29 18:31</td>\n      <td>56.0</td>\n      <td>0.0</td>\n      <td>10.00</td>\n      <td>Rain</td>\n    </tr>\n    <tr>\n      <th>4</th>\n      <td>regensburg</td>\n      <td>2020/10/29 18:31</td>\n      <td>68.0</td>\n      <td>0.0</td>\n      <td>7.42</td>\n      <td>Rain</td>\n    </tr>\n  </tbody>\n</table>\n</div>"
     },
     "metadata": {},
     "execution_count": 4
    }
   ],
   "source": [
    "boulder_data.head()"
   ]
  },
  {
   "source": [
    "##  Delete rows at night (current_time before 7:00, and after 23:00)"
   ],
   "cell_type": "markdown",
   "metadata": {}
  },
  {
   "cell_type": "code",
   "execution_count": 5,
   "metadata": {},
   "outputs": [
    {
     "output_type": "execute_result",
     "data": {
      "text/plain": [
       "count                56784\n",
       "unique               10867\n",
       "top       2020/10/29 18:16\n",
       "freq                    15\n",
       "Name: current_time, dtype: object"
      ]
     },
     "metadata": {},
     "execution_count": 5
    }
   ],
   "source": [
    "boulder_data['current_time'].describe()"
   ]
  },
  {
   "cell_type": "code",
   "execution_count": 6,
   "metadata": {},
   "outputs": [
    {
     "output_type": "execute_result",
     "data": {
      "text/plain": [
       "         gym_name      current_time  occupancy  waiting  weather_temp  \\\n",
       "0       frankfurt  2020/10/29 18:31       61.0      0.0         10.95   \n",
       "1   muenchen-west  2020/10/29 18:31       27.0      0.0          9.22   \n",
       "2    muenchen-ost  2020/10/29 18:31      100.0     14.0          9.22   \n",
       "3        dortmund  2020/10/29 18:31       56.0      0.0         10.00   \n",
       "4      regensburg  2020/10/29 18:31       68.0      0.0          7.42   \n",
       "..            ...               ...        ...      ...           ...   \n",
       "95   muenchen-ost  29/10/2020 16:31       91.0      0.0          8.97   \n",
       "96  muenchen-west  29/10/2020 16:31       27.0      0.0          8.97   \n",
       "97      frankfurt  29/10/2020 16:31       50.0      0.0         10.75   \n",
       "98     regensburg  29/10/2020 16:31       68.0      0.0          7.16   \n",
       "99       dortmund  29/10/2020 16:31       11.0      0.0         10.00   \n",
       "\n",
       "   weather_status  \n",
       "0            Rain  \n",
       "1            Rain  \n",
       "2            Rain  \n",
       "3            Rain  \n",
       "4            Rain  \n",
       "..            ...  \n",
       "95           Rain  \n",
       "96           Rain  \n",
       "97           Rain  \n",
       "98           Rain  \n",
       "99           Rain  \n",
       "\n",
       "[100 rows x 6 columns]"
      ],
      "text/html": "<div>\n<style scoped>\n    .dataframe tbody tr th:only-of-type {\n        vertical-align: middle;\n    }\n\n    .dataframe tbody tr th {\n        vertical-align: top;\n    }\n\n    .dataframe thead th {\n        text-align: right;\n    }\n</style>\n<table border=\"1\" class=\"dataframe\">\n  <thead>\n    <tr style=\"text-align: right;\">\n      <th></th>\n      <th>gym_name</th>\n      <th>current_time</th>\n      <th>occupancy</th>\n      <th>waiting</th>\n      <th>weather_temp</th>\n      <th>weather_status</th>\n    </tr>\n  </thead>\n  <tbody>\n    <tr>\n      <th>0</th>\n      <td>frankfurt</td>\n      <td>2020/10/29 18:31</td>\n      <td>61.0</td>\n      <td>0.0</td>\n      <td>10.95</td>\n      <td>Rain</td>\n    </tr>\n    <tr>\n      <th>1</th>\n      <td>muenchen-west</td>\n      <td>2020/10/29 18:31</td>\n      <td>27.0</td>\n      <td>0.0</td>\n      <td>9.22</td>\n      <td>Rain</td>\n    </tr>\n    <tr>\n      <th>2</th>\n      <td>muenchen-ost</td>\n      <td>2020/10/29 18:31</td>\n      <td>100.0</td>\n      <td>14.0</td>\n      <td>9.22</td>\n      <td>Rain</td>\n    </tr>\n    <tr>\n      <th>3</th>\n      <td>dortmund</td>\n      <td>2020/10/29 18:31</td>\n      <td>56.0</td>\n      <td>0.0</td>\n      <td>10.00</td>\n      <td>Rain</td>\n    </tr>\n    <tr>\n      <th>4</th>\n      <td>regensburg</td>\n      <td>2020/10/29 18:31</td>\n      <td>68.0</td>\n      <td>0.0</td>\n      <td>7.42</td>\n      <td>Rain</td>\n    </tr>\n    <tr>\n      <th>...</th>\n      <td>...</td>\n      <td>...</td>\n      <td>...</td>\n      <td>...</td>\n      <td>...</td>\n      <td>...</td>\n    </tr>\n    <tr>\n      <th>95</th>\n      <td>muenchen-ost</td>\n      <td>29/10/2020 16:31</td>\n      <td>91.0</td>\n      <td>0.0</td>\n      <td>8.97</td>\n      <td>Rain</td>\n    </tr>\n    <tr>\n      <th>96</th>\n      <td>muenchen-west</td>\n      <td>29/10/2020 16:31</td>\n      <td>27.0</td>\n      <td>0.0</td>\n      <td>8.97</td>\n      <td>Rain</td>\n    </tr>\n    <tr>\n      <th>97</th>\n      <td>frankfurt</td>\n      <td>29/10/2020 16:31</td>\n      <td>50.0</td>\n      <td>0.0</td>\n      <td>10.75</td>\n      <td>Rain</td>\n    </tr>\n    <tr>\n      <th>98</th>\n      <td>regensburg</td>\n      <td>29/10/2020 16:31</td>\n      <td>68.0</td>\n      <td>0.0</td>\n      <td>7.16</td>\n      <td>Rain</td>\n    </tr>\n    <tr>\n      <th>99</th>\n      <td>dortmund</td>\n      <td>29/10/2020 16:31</td>\n      <td>11.0</td>\n      <td>0.0</td>\n      <td>10.00</td>\n      <td>Rain</td>\n    </tr>\n  </tbody>\n</table>\n<p>100 rows × 6 columns</p>\n</div>"
     },
     "metadata": {},
     "execution_count": 6
    }
   ],
   "source": [
    "boulder_data.head(100)"
   ]
  },
  {
   "cell_type": "code",
   "execution_count": 7,
   "metadata": {},
   "outputs": [],
   "source": [
    "closed_times = ['23:', '00:', '01:', '02:', '03:', '04:', '05:', '06:']\n",
    "\n",
    "for i in closed_times:\n",
    "    boulder_data = boulder_data[~boulder_data.current_time.str.contains(i)]"
   ]
  },
  {
   "cell_type": "code",
   "execution_count": 8,
   "metadata": {},
   "outputs": [
    {
     "output_type": "execute_result",
     "data": {
      "text/plain": [
       "count                38587\n",
       "unique                7377\n",
       "top       2020/10/29 18:16\n",
       "freq                    15\n",
       "Name: current_time, dtype: object"
      ]
     },
     "metadata": {},
     "execution_count": 8
    }
   ],
   "source": [
    "boulder_data['current_time'].describe()"
   ]
  },
  {
   "source": [
    "##  Delete rows where minute is not in 00, 15, 30 or 45"
   ],
   "cell_type": "markdown",
   "metadata": {}
  },
  {
   "cell_type": "code",
   "execution_count": 9,
   "metadata": {},
   "outputs": [],
   "source": [
    "boulder_data = boulder_data.loc[(boulder_data['current_time'].str.contains(\":00\")) | (boulder_data['current_time'].str.contains(\":15\")) | (boulder_data['current_time'].str.contains(\":30\")) | (boulder_data['current_time'].str.contains(\":45\"))]"
   ]
  },
  {
   "cell_type": "code",
   "execution_count": 10,
   "metadata": {},
   "outputs": [
    {
     "output_type": "execute_result",
     "data": {
      "text/plain": [
       "count                 1984\n",
       "unique                 404\n",
       "top       2020/10/22 15:00\n",
       "freq                    10\n",
       "Name: current_time, dtype: object"
      ]
     },
     "metadata": {},
     "execution_count": 10
    }
   ],
   "source": [
    "boulder_data['current_time'].describe()"
   ]
  },
  {
   "source": [
    "##  Convert ost and west from the old format to muenchen-ost, muenchen-west to new format"
   ],
   "cell_type": "markdown",
   "metadata": {}
  },
  {
   "cell_type": "code",
   "execution_count": 11,
   "metadata": {},
   "outputs": [
    {
     "output_type": "execute_result",
     "data": {
      "text/plain": [
       "count         1984\n",
       "unique           7\n",
       "top       dortmund\n",
       "freq           398\n",
       "Name: gym_name, dtype: object"
      ]
     },
     "metadata": {},
     "execution_count": 11
    }
   ],
   "source": [
    "boulder_data['gym_name'].describe()"
   ]
  },
  {
   "cell_type": "code",
   "execution_count": 12,
   "metadata": {},
   "outputs": [
    {
     "output_type": "execute_result",
     "data": {
      "text/plain": [
       "array(['regensburg', 'muenchen-west', 'frankfurt', 'dortmund',\n",
       "       'muenchen-ost', 'west', 'ost'], dtype=object)"
      ]
     },
     "metadata": {},
     "execution_count": 12
    }
   ],
   "source": [
    "boulder_data.gym_name.unique()"
   ]
  },
  {
   "cell_type": "code",
   "execution_count": 13,
   "metadata": {},
   "outputs": [],
   "source": [
    "boulder_data['gym_name'] = boulder_data['gym_name'].replace(['ost','west'],['muenchen-ost','muenchen-west'])\n"
   ]
  },
  {
   "cell_type": "code",
   "execution_count": 14,
   "metadata": {},
   "outputs": [
    {
     "output_type": "execute_result",
     "data": {
      "text/plain": [
       "array(['regensburg', 'muenchen-west', 'frankfurt', 'dortmund',\n",
       "       'muenchen-ost'], dtype=object)"
      ]
     },
     "metadata": {},
     "execution_count": 14
    }
   ],
   "source": [
    "boulder_data.gym_name.unique()"
   ]
  },
  {
   "cell_type": "code",
   "execution_count": 48,
   "metadata": {},
   "outputs": [
    {
     "output_type": "execute_result",
     "data": {
      "text/plain": [
       "array(['Rain', 'Clouds', 'Mist', 'Clear', 'Fog', 'Drizzle', 'Haze', nan],\n",
       "      dtype=object)"
      ]
     },
     "metadata": {},
     "execution_count": 48
    }
   ],
   "source": [
    "boulder_data.weather_status.unique()"
   ]
  },
  {
   "source": [
    "##  Convert date format to: YYYY/MM/DD HH:MM (hint: datetime package in python)"
   ],
   "cell_type": "markdown",
   "metadata": {}
  },
  {
   "cell_type": "code",
   "execution_count": 15,
   "metadata": {},
   "outputs": [
    {
     "output_type": "execute_result",
     "data": {
      "text/plain": [
       "94     2020/10/29 16:45\n",
       "125    29/10/2020 15:00\n",
       "Name: current_time, dtype: object"
      ]
     },
     "metadata": {},
     "execution_count": 15
    }
   ],
   "source": [
    "# from row 97, the format is DD/MM/YYYY HH:MM\n",
    "boulder_data[\"current_time\"][9:11]"
   ]
  },
  {
   "cell_type": "code",
   "execution_count": 16,
   "metadata": {},
   "outputs": [],
   "source": [
    "from datetime import datetime"
   ]
  },
  {
   "cell_type": "code",
   "execution_count": 17,
   "metadata": {},
   "outputs": [],
   "source": [
    "boulder_data = boulder_data.reset_index(drop=True)"
   ]
  },
  {
   "cell_type": "code",
   "execution_count": 18,
   "metadata": {},
   "outputs": [
    {
     "output_type": "execute_result",
     "data": {
      "text/plain": [
       "23    28/10/2020 19:30\n",
       "24    28/10/2020 19:30\n",
       "25    28/10/2020 16:00\n",
       "26    28/10/2020 16:00\n",
       "27    28/10/2020 16:00\n",
       "28    28/10/2020 16:00\n",
       "29    28/10/2020 16:00\n",
       "30    28/10/2020 15:00\n",
       "31    28/10/2020 15:00\n",
       "32    28/10/2020 15:00\n",
       "33    28/10/2020 15:00\n",
       "34    28/10/2020 15:00\n",
       "Name: current_time, dtype: object"
      ]
     },
     "metadata": {},
     "execution_count": 18
    }
   ],
   "source": [
    "# checking where the error was - it wasn't here\n",
    "boulder_data[\"current_time\"][23:35]"
   ]
  },
  {
   "cell_type": "code",
   "execution_count": 19,
   "metadata": {},
   "outputs": [],
   "source": [
    "# boulder_data.info()\n",
    "# applied the below function to all rows [10:200] but the other rows were already in the correct format (but some dates coincide with other rows (e.g. 25-29 with 200-205))\n",
    "# should check for duplicates\n",
    "boulder_data[\"current_time\"][10:200] = pd.to_datetime(boulder_data['current_time'][10:200], format='%d/%m/%Y %H:%M').dt.strftime('%Y-%m-%d %H:%M')\n"
   ]
  },
  {
   "cell_type": "code",
   "execution_count": 20,
   "metadata": {},
   "outputs": [
    {
     "output_type": "execute_result",
     "data": {
      "text/plain": [
       "24    2020-10-28 19:30\n",
       "25    2020-10-28 16:00\n",
       "26    2020-10-28 16:00\n",
       "27    2020-10-28 16:00\n",
       "28    2020-10-28 16:00\n",
       "29    2020-10-28 16:00\n",
       "30    2020-10-28 15:00\n",
       "Name: current_time, dtype: object"
      ]
     },
     "metadata": {},
     "execution_count": 20
    }
   ],
   "source": [
    "# checking the date is in the correct format\n",
    "boulder_data[\"current_time\"][24:31]"
   ]
  },
  {
   "cell_type": "code",
   "execution_count": 21,
   "metadata": {},
   "outputs": [
    {
     "output_type": "execute_result",
     "data": {
      "text/plain": [
       "          gym_name      current_time  occupancy  waiting  weather_temp  \\\n",
       "205     regensburg  2020/10/28 15:00       64.0      0.0          9.64   \n",
       "206       dortmund  2020/10/28 15:00       31.0      0.0         13.79   \n",
       "207      frankfurt  2020/10/28 15:00       27.0      0.0         14.39   \n",
       "208  muenchen-west  2020/10/28 15:00       32.0      0.0         12.90   \n",
       "209   muenchen-ost  2020/10/28 15:00       67.0      0.0         12.90   \n",
       "\n",
       "    weather_status  \n",
       "205         Clouds  \n",
       "206         Clouds  \n",
       "207         Clouds  \n",
       "208         Clouds  \n",
       "209         Clouds  "
      ],
      "text/html": "<div>\n<style scoped>\n    .dataframe tbody tr th:only-of-type {\n        vertical-align: middle;\n    }\n\n    .dataframe tbody tr th {\n        vertical-align: top;\n    }\n\n    .dataframe thead th {\n        text-align: right;\n    }\n</style>\n<table border=\"1\" class=\"dataframe\">\n  <thead>\n    <tr style=\"text-align: right;\">\n      <th></th>\n      <th>gym_name</th>\n      <th>current_time</th>\n      <th>occupancy</th>\n      <th>waiting</th>\n      <th>weather_temp</th>\n      <th>weather_status</th>\n    </tr>\n  </thead>\n  <tbody>\n    <tr>\n      <th>205</th>\n      <td>regensburg</td>\n      <td>2020/10/28 15:00</td>\n      <td>64.0</td>\n      <td>0.0</td>\n      <td>9.64</td>\n      <td>Clouds</td>\n    </tr>\n    <tr>\n      <th>206</th>\n      <td>dortmund</td>\n      <td>2020/10/28 15:00</td>\n      <td>31.0</td>\n      <td>0.0</td>\n      <td>13.79</td>\n      <td>Clouds</td>\n    </tr>\n    <tr>\n      <th>207</th>\n      <td>frankfurt</td>\n      <td>2020/10/28 15:00</td>\n      <td>27.0</td>\n      <td>0.0</td>\n      <td>14.39</td>\n      <td>Clouds</td>\n    </tr>\n    <tr>\n      <th>208</th>\n      <td>muenchen-west</td>\n      <td>2020/10/28 15:00</td>\n      <td>32.0</td>\n      <td>0.0</td>\n      <td>12.90</td>\n      <td>Clouds</td>\n    </tr>\n    <tr>\n      <th>209</th>\n      <td>muenchen-ost</td>\n      <td>2020/10/28 15:00</td>\n      <td>67.0</td>\n      <td>0.0</td>\n      <td>12.90</td>\n      <td>Clouds</td>\n    </tr>\n  </tbody>\n</table>\n</div>"
     },
     "metadata": {},
     "execution_count": 21
    }
   ],
   "source": [
    "# checking where the error was\n",
    "boulder_data.loc[boulder_data['current_time'] == '2020/10/28 15:00']"
   ]
  },
  {
   "source": [
    "## Use the CDS API and obtain the weather for the past dates"
   ],
   "cell_type": "markdown",
   "metadata": {}
  },
  {
   "source": [
    "Exploring the data in the below 3 cells:\n",
    "- figuring out how many cells don't have weather data\n",
    "- figuring out how detailed the weather status values are\n",
    "- figuring out which dates & times I should collect data for"
   ],
   "cell_type": "markdown",
   "metadata": {}
  },
  {
   "cell_type": "code",
   "execution_count": 46,
   "metadata": {},
   "outputs": [
    {
     "output_type": "execute_result",
     "data": {
      "text/plain": [
       "           gym_name      current_time  occupancy  waiting  weather_temp  \\\n",
       "1661     regensburg  2020/09/12 07:15        6.0      0.0           NaN   \n",
       "1662  muenchen-west  2020/09/12 07:15       23.0      0.0           NaN   \n",
       "1663      frankfurt  2020/09/12 07:15       11.0      0.0           NaN   \n",
       "1664   muenchen-ost  2020/09/12 07:15       30.0      0.0           NaN   \n",
       "1665       dortmund  2020/09/12 07:15        7.0      0.0           NaN   \n",
       "...             ...               ...        ...      ...           ...   \n",
       "1979      frankfurt  2020/09/03 19:00       87.0      0.0           NaN   \n",
       "1980       dortmund  2020/09/03 19:00       47.0      0.0           NaN   \n",
       "1981   muenchen-ost  2020/09/03 19:00       95.0      0.0           NaN   \n",
       "1982     regensburg  2020/09/03 19:00       42.0      0.0           NaN   \n",
       "1983  muenchen-west  2020/09/03 19:00       61.0      0.0           NaN   \n",
       "\n",
       "     weather_status  \n",
       "1661            NaN  \n",
       "1662            NaN  \n",
       "1663            NaN  \n",
       "1664            NaN  \n",
       "1665            NaN  \n",
       "...             ...  \n",
       "1979            NaN  \n",
       "1980            NaN  \n",
       "1981            NaN  \n",
       "1982            NaN  \n",
       "1983            NaN  \n",
       "\n",
       "[323 rows x 6 columns]"
      ],
      "text/html": "<div>\n<style scoped>\n    .dataframe tbody tr th:only-of-type {\n        vertical-align: middle;\n    }\n\n    .dataframe tbody tr th {\n        vertical-align: top;\n    }\n\n    .dataframe thead th {\n        text-align: right;\n    }\n</style>\n<table border=\"1\" class=\"dataframe\">\n  <thead>\n    <tr style=\"text-align: right;\">\n      <th></th>\n      <th>gym_name</th>\n      <th>current_time</th>\n      <th>occupancy</th>\n      <th>waiting</th>\n      <th>weather_temp</th>\n      <th>weather_status</th>\n    </tr>\n  </thead>\n  <tbody>\n    <tr>\n      <th>1661</th>\n      <td>regensburg</td>\n      <td>2020/09/12 07:15</td>\n      <td>6.0</td>\n      <td>0.0</td>\n      <td>NaN</td>\n      <td>NaN</td>\n    </tr>\n    <tr>\n      <th>1662</th>\n      <td>muenchen-west</td>\n      <td>2020/09/12 07:15</td>\n      <td>23.0</td>\n      <td>0.0</td>\n      <td>NaN</td>\n      <td>NaN</td>\n    </tr>\n    <tr>\n      <th>1663</th>\n      <td>frankfurt</td>\n      <td>2020/09/12 07:15</td>\n      <td>11.0</td>\n      <td>0.0</td>\n      <td>NaN</td>\n      <td>NaN</td>\n    </tr>\n    <tr>\n      <th>1664</th>\n      <td>muenchen-ost</td>\n      <td>2020/09/12 07:15</td>\n      <td>30.0</td>\n      <td>0.0</td>\n      <td>NaN</td>\n      <td>NaN</td>\n    </tr>\n    <tr>\n      <th>1665</th>\n      <td>dortmund</td>\n      <td>2020/09/12 07:15</td>\n      <td>7.0</td>\n      <td>0.0</td>\n      <td>NaN</td>\n      <td>NaN</td>\n    </tr>\n    <tr>\n      <th>...</th>\n      <td>...</td>\n      <td>...</td>\n      <td>...</td>\n      <td>...</td>\n      <td>...</td>\n      <td>...</td>\n    </tr>\n    <tr>\n      <th>1979</th>\n      <td>frankfurt</td>\n      <td>2020/09/03 19:00</td>\n      <td>87.0</td>\n      <td>0.0</td>\n      <td>NaN</td>\n      <td>NaN</td>\n    </tr>\n    <tr>\n      <th>1980</th>\n      <td>dortmund</td>\n      <td>2020/09/03 19:00</td>\n      <td>47.0</td>\n      <td>0.0</td>\n      <td>NaN</td>\n      <td>NaN</td>\n    </tr>\n    <tr>\n      <th>1981</th>\n      <td>muenchen-ost</td>\n      <td>2020/09/03 19:00</td>\n      <td>95.0</td>\n      <td>0.0</td>\n      <td>NaN</td>\n      <td>NaN</td>\n    </tr>\n    <tr>\n      <th>1982</th>\n      <td>regensburg</td>\n      <td>2020/09/03 19:00</td>\n      <td>42.0</td>\n      <td>0.0</td>\n      <td>NaN</td>\n      <td>NaN</td>\n    </tr>\n    <tr>\n      <th>1983</th>\n      <td>muenchen-west</td>\n      <td>2020/09/03 19:00</td>\n      <td>61.0</td>\n      <td>0.0</td>\n      <td>NaN</td>\n      <td>NaN</td>\n    </tr>\n  </tbody>\n</table>\n<p>323 rows × 6 columns</p>\n</div>"
     },
     "metadata": {},
     "execution_count": 46
    }
   ],
   "source": [
    "boulder_data.loc[boulder_data['weather_temp'].isnull()]"
   ]
  },
  {
   "cell_type": "code",
   "execution_count": 47,
   "metadata": {},
   "outputs": [
    {
     "output_type": "execute_result",
     "data": {
      "text/plain": [
       "array(['Rain', 'Clouds', 'Mist', 'Clear', 'Fog', 'Drizzle', 'Haze', nan],\n",
       "      dtype=object)"
      ]
     },
     "metadata": {},
     "execution_count": 47
    }
   ],
   "source": [
    "boulder_data.weather_status.unique()"
   ]
  },
  {
   "cell_type": "code",
   "execution_count": 72,
   "metadata": {},
   "outputs": [
    {
     "output_type": "execute_result",
     "data": {
      "text/plain": [
       "array(['2020/09/12 07:15', '2020/09/12 07:00', '2020/09/11 22:00',\n",
       "       '2020/09/11 21:45', '2020/09/11 20:00', '2020/09/11 19:30',\n",
       "       '2020/09/11 17:00', '2020/09/11 16:00', '2020/09/11 07:15',\n",
       "       '2020/09/11 07:00', '2020/09/10 22:00', '2020/09/10 20:00',\n",
       "       '2020/09/10 19:30', '2020/09/10 19:00', '2020/09/10 18:45',\n",
       "       '2020/09/10 17:00', '2020/09/10 14:00', '2020/09/10 07:00',\n",
       "       '2020/09/09 20:00', '2020/09/09 19:30', '2020/09/09 17:45',\n",
       "       '2020/09/09 17:00', '2020/09/09 16:00', '2020/09/09 14:00',\n",
       "       '2020/09/08 20:00', '2020/09/08 19:30', '2020/09/08 19:00',\n",
       "       '2020/09/08 17:00', '2020/09/08 16:00', '2020/09/08 07:00',\n",
       "       '2020/09/07 22:30', '2020/09/07 21:45', '2020/09/07 20:00',\n",
       "       '2020/09/07 19:30', '2020/09/07 19:00', '2020/09/07 17:00',\n",
       "       '2020/09/07 16:00', '2020/09/07 14:00', '2020/09/07 07:00',\n",
       "       '2020/09/06 20:00', '2020/09/06 19:30', '2020/09/06 19:00',\n",
       "       '2020/09/06 18:00', '2020/09/06 17:00', '2020/09/06 16:00',\n",
       "       '2020/09/06 15:15', '2020/09/06 14:45', '2020/09/06 14:00',\n",
       "       '2020/09/06 12:45', '2020/09/06 10:45', '2020/09/06 09:30',\n",
       "       '2020/09/06 07:15', '2020/09/06 07:00', '2020/09/05 20:00',\n",
       "       '2020/09/05 19:30', '2020/09/05 19:00', '2020/09/05 18:45',\n",
       "       '2020/09/05 17:45', '2020/09/05 17:00', '2020/09/05 16:00',\n",
       "       '2020/09/05 14:45', '2020/09/05 14:15', '2020/09/05 14:00',\n",
       "       '2020/09/05 13:45', '2020/09/05 13:30', '2020/09/05 10:15',\n",
       "       '2020/09/05 09:45', '2020/09/05 07:00', '2020/09/04 20:00',\n",
       "       '2020/09/04 19:30', '2020/09/04 19:00', '2020/09/04 17:00',\n",
       "       '2020/09/04 15:00', '2020/09/04 14:00', '2020/09/04 07:00',\n",
       "       '2020/09/03 20:00', '2020/09/03 19:30', '2020/09/03 19:00'],\n",
       "      dtype=object)"
      ]
     },
     "metadata": {},
     "execution_count": 72
    }
   ],
   "source": [
    "boulder_data.loc[1661:1984].current_time.unique()"
   ]
  },
  {
   "source": [
    "In the below cells, I have used [this article](https://medium.com/analytics-vidhya/best-free-api-for-weather-records-era5-59c0e204829a) to download weather data and convert nc format to a pandas dataframe."
   ],
   "cell_type": "markdown",
   "metadata": {}
  },
  {
   "cell_type": "code",
   "execution_count": 52,
   "metadata": {},
   "outputs": [],
   "source": [
    "import cdsapi\n",
    "import netCDF4\n",
    "import numpy\n",
    "from netCDF4 import num2date\n",
    "\n",
    "from datetime import datetime, timedelta"
   ]
  },
  {
   "cell_type": "code",
   "execution_count": 53,
   "metadata": {},
   "outputs": [],
   "source": [
    "def get_weather_data(year, month, day, area, time, \n",
    "                     file_location = 'weather_data.nc'\n",
    "                    ):\n",
    "    \"\"\"\n",
    "    Input:\n",
    "        year, month, day, area, time, file_location: Strings\n",
    "    Outputs:\n",
    "        file_location: A string as in input\n",
    "    \"\"\"\n",
    "    c = cdsapi.Client() \n",
    "    c.retrieve(\n",
    "        'reanalysis-era5-single-levels',{\n",
    "            'product_type':'reanalysis', # This is the dataset produced by the CDS\n",
    "            'variable':['2m_temperature'],\n",
    "            'year': year,\n",
    "            'month': month,\n",
    "            'day': day,\n",
    "            'area': area,\n",
    "            'time': time,\n",
    "            'format':'netcdf' # The format we choose to use\n",
    "        },\n",
    "        file_location)\n",
    "    return(file_location)\n",
    "\n",
    "\n",
    "\n",
    "#The function opens the file in format “.nc” and returns a pandas dataframe with the value of temperature and datapoint.\n",
    "def read_netcdf_file(file_location):\n",
    "    f = netCDF4.Dataset(file_location) # This the python package I used to open the nc file\n",
    "    t2m = f.variables['t2m'][:].flatten()\n",
    "    time = f.variables['time'][:].flatten()\n",
    "    start_time = datetime.strptime(\"01/01/1900 00:00\", \"%d/%m/%Y %H:%M\")\n",
    "    time_points = []\n",
    "    for x in range(len(time)):\n",
    "        hours_from_start_time = start_time + timedelta(hours=int(time.data[x]))\n",
    "        time_points.append(hours_from_start_time)\n",
    "\n",
    "    values = pd.DataFrame({\n",
    "        \"t2m\" : [x-273.15 for x in t2m.data if x!= -32767], # As we said the values are in Kelvin, to convert in Celsius we have to subtract 273.15\n",
    "        \"time\" : time_points\n",
    "        })\n",
    "    return(values)"
   ]
  },
  {
   "source": [
    "Probably not the most efficient way to download data for several cities, but in the next 2 cells, I set the long & lat for the different locations, then download data for that location (for all 6 locations)."
   ],
   "cell_type": "markdown",
   "metadata": {}
  },
  {
   "cell_type": "code",
   "execution_count": 71,
   "metadata": {},
   "outputs": [],
   "source": [
    "latitude  = \"50.1109\"  # frankfurt\n",
    "longitude = \"8.6821\"  # frankfurt"
   ]
  },
  {
   "cell_type": "code",
   "execution_count": 60,
   "metadata": {},
   "outputs": [
    {
     "output_type": "stream",
     "name": "stderr",
     "text": [
      "2020-11-17 08:36:41,133 INFO Welcome to the CDS\n",
      "2020-11-17 08:36:41,135 INFO Sending request to https://cds.climate.copernicus.eu/api/v2/resources/reanalysis-era5-single-levels\n",
      "2020-11-17 08:36:41,318 INFO Request is queued\n",
      "2020-11-17 08:36:42,338 INFO Request is running\n",
      "2020-11-17 08:36:46,126 INFO Request is completed\n",
      "2020-11-17 08:36:46,128 INFO Downloading http://136.156.132.236/cache-compute-0007/cache/data9/adaptor.mars.internal-1605602201.5037096-32354-23-fc6e5845-026b-403e-b38d-5431457821fc.nc to frankfurt_test.nc (1K)\n",
      "2020-11-17 08:36:46,607 INFO Download rate 2.2K/s\n"
     ]
    }
   ],
   "source": [
    "file_location = get_weather_data(\n",
    "\tyear  = \"2020\",\n",
    "    \n",
    "\t# NB: Single digits days or months must have 0s in front or that will cause an error\n",
    "\tday   = ['03', '04', '05', '06', '07', '08', '09', '10', '11', '12'],\n",
    "\tmonth = \"09\",\n",
    "    \n",
    "\t# The ERA5 accept rectangular shape grid as a searching areas\n",
    "\t# but we can use also input a point with this system:ß\n",
    "\tarea  = latitude +'/'+ longitude +'/'+ latitude +'/'+ longitude,\n",
    "    \n",
    "\t# We can request all 24 hours of the day. The only accepted format are listed here:\n",
    "\ttime  = ['07:00', '09:00', '10:00', '12:00', '13:00', '14:00', '15:00', '16:00', '17:00', '18:00', '19:00', '20:00', '21:00', '22:00'],\n",
    "\tfile_location = 'frankfurt_test.nc')"
   ]
  },
  {
   "source": [
    "The below cell, I am saving the nc files for all the locations to different pandas dataframes.\n",
    "I will save muenchen-west and muenchen-ost to the same nc file so I am able to add to the main boulder_data dataframe."
   ],
   "cell_type": "markdown",
   "metadata": {}
  },
  {
   "cell_type": "code",
   "execution_count": 62,
   "metadata": {},
   "outputs": [
    {
     "output_type": "stream",
     "name": "stdout",
     "text": [
      "         t2m                time\n0  13.452051 2020-10-28 15:00:00\n"
     ]
    }
   ],
   "source": [
    "weather_data = read_netcdf_file('frankfurt_test.nc')\n",
    "# This is the results:\n",
    "print(weather_data)"
   ]
  },
  {
   "cell_type": "code",
   "execution_count": null,
   "metadata": {},
   "outputs": [],
   "source": []
  },
  {
   "cell_type": "code",
   "execution_count": null,
   "metadata": {},
   "outputs": [],
   "source": []
  },
  {
   "cell_type": "code",
   "execution_count": null,
   "metadata": {},
   "outputs": [],
   "source": []
  }
 ]
}