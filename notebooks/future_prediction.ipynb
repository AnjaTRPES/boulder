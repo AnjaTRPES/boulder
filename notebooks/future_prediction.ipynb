{
 "cells": [
  {
   "cell_type": "code",
   "execution_count": 27,
   "metadata": {},
   "outputs": [],
   "source": [
    "import os\n",
    "import datetime\n",
    "import pandas as pd\n",
    "import xgboost as xgb\n",
    "\n",
    "gyms = ['Munich East', 'Munich West', 'Munich South', 'Dortmund', 'Frankfurt', 'Regensburg']\n",
    "gyms_dict = {'Munich East': 'muenchen-ost', 'Munich West': 'muenchen-west', 'Munich South': 'muenchen-sued', \n",
    "            'Dortmund': 'dortmund', 'Frankfurt': 'frankfurt', 'Regensburg': 'regensburg'}"
   ]
  },
  {
   "cell_type": "code",
   "execution_count": 22,
   "metadata": {},
   "outputs": [],
   "source": [
    "boulderdf = pd.read_csv(\"boulderdata.csv\")"
   ]
  },
  {
   "cell_type": "code",
   "execution_count": 24,
   "metadata": {},
   "outputs": [
    {
     "data": {
      "text/html": [
       "<div>\n",
       "<style scoped>\n",
       "    .dataframe tbody tr th:only-of-type {\n",
       "        vertical-align: middle;\n",
       "    }\n",
       "\n",
       "    .dataframe tbody tr th {\n",
       "        vertical-align: top;\n",
       "    }\n",
       "\n",
       "    .dataframe thead th {\n",
       "        text-align: right;\n",
       "    }\n",
       "</style>\n",
       "<table border=\"1\" class=\"dataframe\">\n",
       "  <thead>\n",
       "    <tr style=\"text-align: right;\">\n",
       "      <th></th>\n",
       "      <th>current_time</th>\n",
       "      <th>gym_name</th>\n",
       "      <th>occupancy</th>\n",
       "      <th>waiting</th>\n",
       "      <th>weather_temp</th>\n",
       "      <th>weather_status</th>\n",
       "    </tr>\n",
       "  </thead>\n",
       "  <tbody>\n",
       "    <tr>\n",
       "      <th>0</th>\n",
       "      <td>2021/06/17 16:30</td>\n",
       "      <td>muenchen-ost</td>\n",
       "      <td>31.0</td>\n",
       "      <td>0.0</td>\n",
       "      <td>30.98</td>\n",
       "      <td>Clear</td>\n",
       "    </tr>\n",
       "    <tr>\n",
       "      <th>1</th>\n",
       "      <td>2021/06/17 16:30</td>\n",
       "      <td>muenchen-west</td>\n",
       "      <td>23.0</td>\n",
       "      <td>0.0</td>\n",
       "      <td>30.98</td>\n",
       "      <td>Clear</td>\n",
       "    </tr>\n",
       "    <tr>\n",
       "      <th>2</th>\n",
       "      <td>2021/06/17 16:30</td>\n",
       "      <td>muenchen-sued</td>\n",
       "      <td>11.0</td>\n",
       "      <td>0.0</td>\n",
       "      <td>30.98</td>\n",
       "      <td>Clear</td>\n",
       "    </tr>\n",
       "    <tr>\n",
       "      <th>3</th>\n",
       "      <td>2021/06/17 16:30</td>\n",
       "      <td>dortmund</td>\n",
       "      <td>3.0</td>\n",
       "      <td>0.0</td>\n",
       "      <td>34.44</td>\n",
       "      <td>Clear</td>\n",
       "    </tr>\n",
       "    <tr>\n",
       "      <th>4</th>\n",
       "      <td>2021/06/17 16:30</td>\n",
       "      <td>regensburg</td>\n",
       "      <td>23.0</td>\n",
       "      <td>0.0</td>\n",
       "      <td>31.34</td>\n",
       "      <td>Clear</td>\n",
       "    </tr>\n",
       "  </tbody>\n",
       "</table>\n",
       "</div>"
      ],
      "text/plain": [
       "       current_time       gym_name  occupancy  waiting  weather_temp  \\\n",
       "0  2021/06/17 16:30   muenchen-ost       31.0      0.0         30.98   \n",
       "1  2021/06/17 16:30  muenchen-west       23.0      0.0         30.98   \n",
       "2  2021/06/17 16:30  muenchen-sued       11.0      0.0         30.98   \n",
       "3  2021/06/17 16:30       dortmund        3.0      0.0         34.44   \n",
       "4  2021/06/17 16:30     regensburg       23.0      0.0         31.34   \n",
       "\n",
       "  weather_status  \n",
       "0          Clear  \n",
       "1          Clear  \n",
       "2          Clear  \n",
       "3          Clear  \n",
       "4          Clear  "
      ]
     },
     "execution_count": 24,
     "metadata": {},
     "output_type": "execute_result"
    }
   ],
   "source": [
    "latesttime = boulderdf.iloc[0].current_time\n",
    "for i in range(len(gyms)):\n",
    "    row = boulderdf.iloc[i]\n",
    "    if row.current_time != latesttime:\n",
    "        break\n",
    "latestdata = boulderdf.head(i)\n",
    "latestdata"
   ]
  },
  {
   "cell_type": "code",
   "execution_count": 19,
   "metadata": {},
   "outputs": [],
   "source": [
    "model2 = xgb.Booster()\n",
    "model2.load_model('xgb.model')"
   ]
  },
  {
   "cell_type": "code",
   "execution_count": 25,
   "metadata": {},
   "outputs": [
    {
     "name": "stderr",
     "output_type": "stream",
     "text": [
      "<ipython-input-25-6cd614beb98d>:5: SettingWithCopyWarning: \n",
      "A value is trying to be set on a copy of a slice from a DataFrame.\n",
      "Try using .loc[row_indexer,col_indexer] = value instead\n",
      "\n",
      "See the caveats in the documentation: https://pandas.pydata.org/pandas-docs/stable/user_guide/indexing.html#returning-a-view-versus-a-copy\n",
      "  df['current_time'] = pd.to_datetime(df['current_time'])\n",
      "<ipython-input-25-6cd614beb98d>:6: SettingWithCopyWarning: \n",
      "A value is trying to be set on a copy of a slice from a DataFrame.\n",
      "Try using .loc[row_indexer,col_indexer] = value instead\n",
      "\n",
      "See the caveats in the documentation: https://pandas.pydata.org/pandas-docs/stable/user_guide/indexing.html#returning-a-view-versus-a-copy\n",
      "  df['weekday'] = df['current_time'].apply(lambda x: x.strftime('%A'))\n",
      "<ipython-input-25-6cd614beb98d>:7: SettingWithCopyWarning: \n",
      "A value is trying to be set on a copy of a slice from a DataFrame.\n",
      "Try using .loc[row_indexer,col_indexer] = value instead\n",
      "\n",
      "See the caveats in the documentation: https://pandas.pydata.org/pandas-docs/stable/user_guide/indexing.html#returning-a-view-versus-a-copy\n",
      "  df['time'] = df['current_time'].apply(lambda x: x.hour + x.minute/60)\n",
      "C:\\Users\\aberasategi\\Anaconda3\\lib\\site-packages\\pandas\\core\\frame.py:3990: SettingWithCopyWarning: \n",
      "A value is trying to be set on a copy of a slice from a DataFrame\n",
      "\n",
      "See the caveats in the documentation: https://pandas.pydata.org/pandas-docs/stable/user_guide/indexing.html#returning-a-view-versus-a-copy\n",
      "  return super().drop(\n",
      "<ipython-input-25-6cd614beb98d>:11: SettingWithCopyWarning: \n",
      "A value is trying to be set on a copy of a slice from a DataFrame.\n",
      "Try using .loc[row_indexer,col_indexer] = value instead\n",
      "\n",
      "See the caveats in the documentation: https://pandas.pydata.org/pandas-docs/stable/user_guide/indexing.html#returning-a-view-versus-a-copy\n",
      "  df['occupancy'] = df.apply(lambda r: r.occupancy + r.waiting/10, axis=1)\n"
     ]
    },
    {
     "data": {
      "text/plain": [
       "array([[30.98, 16.5 ,  0.  ,  1.  ,  0.  ,  0.  ,  0.  ,  1.  ,  1.  ],\n",
       "       [30.98, 16.5 ,  0.  ,  0.  ,  0.  ,  1.  ,  0.  ,  1.  ,  1.  ],\n",
       "       [30.98, 16.5 ,  0.  ,  0.  ,  1.  ,  0.  ,  0.  ,  1.  ,  1.  ],\n",
       "       [34.44, 16.5 ,  1.  ,  0.  ,  0.  ,  0.  ,  0.  ,  1.  ,  1.  ],\n",
       "       [31.34, 16.5 ,  0.  ,  0.  ,  0.  ,  0.  ,  1.  ,  1.  ,  1.  ]])"
      ]
     },
     "execution_count": 25,
     "metadata": {},
     "output_type": "execute_result"
    }
   ],
   "source": [
    "def preprocess(df: pd.DataFrame) -> (np.array, np.array):\n",
    "\n",
    "    # datetime processing. obtain weekday, and time as hours and minutes rounded up\n",
    "    # ex. 16:45 becomes 16.75. 15:30 becomes 15.50\n",
    "    df['current_time'] = pd.to_datetime(df['current_time'])\n",
    "    df['weekday'] = df['current_time'].apply(lambda x: x.strftime('%A'))\n",
    "    df['time'] = df['current_time'].apply(lambda x: x.hour + x.minute/60)\n",
    "    df.drop('current_time', axis=1, inplace=True)\n",
    "\n",
    "    # join occupancy and waiting into a single column\n",
    "    df['occupancy'] = df.apply(lambda r: r.occupancy + r.waiting/10, axis=1)\n",
    "    df.drop('waiting', axis=1, inplace=True)\n",
    "\n",
    "    # one-hot encode the categorical variables\n",
    "    df = one_hot_encode_col(df, 'gym_name')\n",
    "    df = one_hot_encode_col(df, 'weekday')\n",
    "    df = one_hot_encode_col(df, 'weather_status')\n",
    "\n",
    "    # extract X,y from df\n",
    "    y = df['occupancy'].to_numpy()\n",
    "    X = df.drop('occupancy', axis=1).to_numpy()\n",
    "\n",
    "    return X, y\n",
    "\n",
    "test_X, _ = preprocess(latestdata)\n",
    "test_X"
   ]
  },
  {
   "cell_type": "code",
   "execution_count": 28,
   "metadata": {},
   "outputs": [
    {
     "ename": "TypeError",
     "evalue": "('Expecting data to be a DMatrix object, got: ', <class 'numpy.ndarray'>)",
     "output_type": "error",
     "traceback": [
      "\u001b[1;31m---------------------------------------------------------------------------\u001b[0m",
      "\u001b[1;31mTypeError\u001b[0m                                 Traceback (most recent call last)",
      "\u001b[1;32m<ipython-input-28-fe6136dfbc1d>\u001b[0m in \u001b[0;36m<module>\u001b[1;34m\u001b[0m\n\u001b[0;32m      3\u001b[0m \u001b[1;32mfor\u001b[0m \u001b[0m_\u001b[0m \u001b[1;32min\u001b[0m \u001b[0mrange\u001b[0m\u001b[1;33m(\u001b[0m\u001b[1;36m8\u001b[0m\u001b[1;33m)\u001b[0m\u001b[1;33m:\u001b[0m\u001b[1;33m\u001b[0m\u001b[1;33m\u001b[0m\u001b[0m\n\u001b[0;32m      4\u001b[0m     \u001b[0mtimenow\u001b[0m \u001b[1;33m=\u001b[0m \u001b[0mtimenow\u001b[0m \u001b[1;33m+\u001b[0m \u001b[0mdatetime\u001b[0m\u001b[1;33m.\u001b[0m\u001b[0mtimedelta\u001b[0m\u001b[1;33m(\u001b[0m\u001b[0mminutes\u001b[0m\u001b[1;33m=\u001b[0m\u001b[1;36m15\u001b[0m\u001b[1;33m)\u001b[0m\u001b[1;33m\u001b[0m\u001b[1;33m\u001b[0m\u001b[0m\n\u001b[1;32m----> 5\u001b[1;33m     \u001b[0mpredicted_y\u001b[0m \u001b[1;33m=\u001b[0m \u001b[0mmodel2\u001b[0m\u001b[1;33m.\u001b[0m\u001b[0mpredict\u001b[0m\u001b[1;33m(\u001b[0m\u001b[0mtest_X\u001b[0m\u001b[1;33m)\u001b[0m\u001b[1;33m\u001b[0m\u001b[1;33m\u001b[0m\u001b[0m\n\u001b[0m\u001b[0;32m      6\u001b[0m     \u001b[1;32mbreak\u001b[0m\u001b[1;33m\u001b[0m\u001b[1;33m\u001b[0m\u001b[0m\n",
      "\u001b[1;32m~\\Anaconda3\\lib\\site-packages\\xgboost\\core.py\u001b[0m in \u001b[0;36mpredict\u001b[1;34m(self, data, output_margin, ntree_limit, pred_leaf, pred_contribs, approx_contribs, pred_interactions, validate_features, training, iteration_range, strict_shape)\u001b[0m\n\u001b[0;32m   1701\u001b[0m         \"\"\"\n\u001b[0;32m   1702\u001b[0m         \u001b[1;32mif\u001b[0m \u001b[1;32mnot\u001b[0m \u001b[0misinstance\u001b[0m\u001b[1;33m(\u001b[0m\u001b[0mdata\u001b[0m\u001b[1;33m,\u001b[0m \u001b[0mDMatrix\u001b[0m\u001b[1;33m)\u001b[0m\u001b[1;33m:\u001b[0m\u001b[1;33m\u001b[0m\u001b[1;33m\u001b[0m\u001b[0m\n\u001b[1;32m-> 1703\u001b[1;33m             \u001b[1;32mraise\u001b[0m \u001b[0mTypeError\u001b[0m\u001b[1;33m(\u001b[0m\u001b[1;34m'Expecting data to be a DMatrix object, got: '\u001b[0m\u001b[1;33m,\u001b[0m \u001b[0mtype\u001b[0m\u001b[1;33m(\u001b[0m\u001b[0mdata\u001b[0m\u001b[1;33m)\u001b[0m\u001b[1;33m)\u001b[0m\u001b[1;33m\u001b[0m\u001b[1;33m\u001b[0m\u001b[0m\n\u001b[0m\u001b[0;32m   1704\u001b[0m         \u001b[1;32mif\u001b[0m \u001b[0mvalidate_features\u001b[0m\u001b[1;33m:\u001b[0m\u001b[1;33m\u001b[0m\u001b[1;33m\u001b[0m\u001b[0m\n\u001b[0;32m   1705\u001b[0m             \u001b[0mself\u001b[0m\u001b[1;33m.\u001b[0m\u001b[0m_validate_features\u001b[0m\u001b[1;33m(\u001b[0m\u001b[0mdata\u001b[0m\u001b[1;33m)\u001b[0m\u001b[1;33m\u001b[0m\u001b[1;33m\u001b[0m\u001b[0m\n",
      "\u001b[1;31mTypeError\u001b[0m: ('Expecting data to be a DMatrix object, got: ', <class 'numpy.ndarray'>)"
     ]
    }
   ],
   "source": [
    "timenow = datetime.datetime.now()\n",
    "newdata = []\n",
    "for _ in range(8):\n",
    "    timenow = timenow + datetime.timedelta(minutes=15)\n",
    "    predicted_y = model2.predict(test_X)\n",
    "    break"
   ]
  },
  {
   "cell_type": "code",
   "execution_count": null,
   "metadata": {},
   "outputs": [],
   "source": []
  }
 ],
 "metadata": {
  "kernelspec": {
   "display_name": "Python 3",
   "language": "python",
   "name": "python3"
  },
  "language_info": {
   "codemirror_mode": {
    "name": "ipython",
    "version": 3
   },
   "file_extension": ".py",
   "mimetype": "text/x-python",
   "name": "python",
   "nbconvert_exporter": "python",
   "pygments_lexer": "ipython3",
   "version": "3.8.3"
  }
 },
 "nbformat": 4,
 "nbformat_minor": 4
}
