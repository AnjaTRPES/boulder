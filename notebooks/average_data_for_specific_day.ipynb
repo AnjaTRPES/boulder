{
 "metadata": {
  "language_info": {
   "codemirror_mode": {
    "name": "ipython",
    "version": 3
   },
   "file_extension": ".py",
   "mimetype": "text/x-python",
   "name": "python",
   "nbconvert_exporter": "python",
   "pygments_lexer": "ipython3",
   "version": "3.8.5-final"
  },
  "orig_nbformat": 2,
  "kernelspec": {
   "name": "python3",
   "display_name": "Python 3.8.5 64-bit ('boulderang': conda)",
   "metadata": {
    "interpreter": {
     "hash": "af7e8b858a93f87b8b5b1435451d182fd8be0d4fe9a6c5347e65a1845e5f755f"
    }
   }
  }
 },
 "nbformat": 4,
 "nbformat_minor": 2,
 "cells": [
  {
   "source": [
    "## Datetime processing to select absolute dates (2020/09/12) when given 'Monday'. How to know when a specific day of the month is a Monday?"
   ],
   "cell_type": "markdown",
   "metadata": {}
  },
  {
   "source": [
    "Earliest date is 2020/09/03, which is a Thursday."
   ],
   "cell_type": "markdown",
   "metadata": {}
  },
  {
   "cell_type": "code",
   "execution_count": 1,
   "metadata": {},
   "outputs": [],
   "source": [
    "import pandas as pd\n",
    "from datetime import datetime"
   ]
  },
  {
   "cell_type": "code",
   "execution_count": 2,
   "metadata": {},
   "outputs": [],
   "source": [
    "boulder_data = pd.read_csv(\"~/Desktop/coding/boulder_data/boulderdata.csv\")"
   ]
  },
  {
   "cell_type": "code",
   "execution_count": 3,
   "metadata": {},
   "outputs": [
    {
     "output_type": "execute_result",
     "data": {
      "text/plain": [
       "        gym_name      current_time  occupancy  waiting  weather_temp  \\\n",
       "0     regensburg  2020/10/29 17:00       68.0      0.0          7.42   \n",
       "1  muenchen-west  2020/10/29 17:00       27.0      0.0          9.09   \n",
       "2      frankfurt  2020/10/29 17:00       59.0      0.0         10.75   \n",
       "3       dortmund  2020/10/29 17:00       11.0      0.0          9.99   \n",
       "4   muenchen-ost  2020/10/29 17:00      100.0     14.0          9.09   \n",
       "\n",
       "  weather_status  \n",
       "0           Rain  \n",
       "1           Rain  \n",
       "2           Rain  \n",
       "3           Rain  \n",
       "4           Rain  "
      ],
      "text/html": "<div>\n<style scoped>\n    .dataframe tbody tr th:only-of-type {\n        vertical-align: middle;\n    }\n\n    .dataframe tbody tr th {\n        vertical-align: top;\n    }\n\n    .dataframe thead th {\n        text-align: right;\n    }\n</style>\n<table border=\"1\" class=\"dataframe\">\n  <thead>\n    <tr style=\"text-align: right;\">\n      <th></th>\n      <th>gym_name</th>\n      <th>current_time</th>\n      <th>occupancy</th>\n      <th>waiting</th>\n      <th>weather_temp</th>\n      <th>weather_status</th>\n    </tr>\n  </thead>\n  <tbody>\n    <tr>\n      <th>0</th>\n      <td>regensburg</td>\n      <td>2020/10/29 17:00</td>\n      <td>68.0</td>\n      <td>0.0</td>\n      <td>7.42</td>\n      <td>Rain</td>\n    </tr>\n    <tr>\n      <th>1</th>\n      <td>muenchen-west</td>\n      <td>2020/10/29 17:00</td>\n      <td>27.0</td>\n      <td>0.0</td>\n      <td>9.09</td>\n      <td>Rain</td>\n    </tr>\n    <tr>\n      <th>2</th>\n      <td>frankfurt</td>\n      <td>2020/10/29 17:00</td>\n      <td>59.0</td>\n      <td>0.0</td>\n      <td>10.75</td>\n      <td>Rain</td>\n    </tr>\n    <tr>\n      <th>3</th>\n      <td>dortmund</td>\n      <td>2020/10/29 17:00</td>\n      <td>11.0</td>\n      <td>0.0</td>\n      <td>9.99</td>\n      <td>Rain</td>\n    </tr>\n    <tr>\n      <th>4</th>\n      <td>muenchen-ost</td>\n      <td>2020/10/29 17:00</td>\n      <td>100.0</td>\n      <td>14.0</td>\n      <td>9.09</td>\n      <td>Rain</td>\n    </tr>\n  </tbody>\n</table>\n</div>"
     },
     "metadata": {},
     "execution_count": 3
    }
   ],
   "source": [
    "boulder_data.head()"
   ]
  },
  {
   "cell_type": "code",
   "execution_count": 4,
   "metadata": {},
   "outputs": [
    {
     "output_type": "execute_result",
     "data": {
      "text/plain": [
       "         occupancy      waiting  weather_temp\n",
       "count  1984.000000  1984.000000   1984.000000\n",
       "mean     47.423387     0.570565     14.425565\n",
       "std      25.733930     3.857531      5.519889\n",
       "min       0.000000     0.000000      2.350000\n",
       "25%      28.000000     0.000000     10.157500\n",
       "50%      45.000000     0.000000     13.980000\n",
       "75%      66.000000     0.000000     18.130000\n",
       "max     100.000000    40.000000     31.640000"
      ],
      "text/html": "<div>\n<style scoped>\n    .dataframe tbody tr th:only-of-type {\n        vertical-align: middle;\n    }\n\n    .dataframe tbody tr th {\n        vertical-align: top;\n    }\n\n    .dataframe thead th {\n        text-align: right;\n    }\n</style>\n<table border=\"1\" class=\"dataframe\">\n  <thead>\n    <tr style=\"text-align: right;\">\n      <th></th>\n      <th>occupancy</th>\n      <th>waiting</th>\n      <th>weather_temp</th>\n    </tr>\n  </thead>\n  <tbody>\n    <tr>\n      <th>count</th>\n      <td>1984.000000</td>\n      <td>1984.000000</td>\n      <td>1984.000000</td>\n    </tr>\n    <tr>\n      <th>mean</th>\n      <td>47.423387</td>\n      <td>0.570565</td>\n      <td>14.425565</td>\n    </tr>\n    <tr>\n      <th>std</th>\n      <td>25.733930</td>\n      <td>3.857531</td>\n      <td>5.519889</td>\n    </tr>\n    <tr>\n      <th>min</th>\n      <td>0.000000</td>\n      <td>0.000000</td>\n      <td>2.350000</td>\n    </tr>\n    <tr>\n      <th>25%</th>\n      <td>28.000000</td>\n      <td>0.000000</td>\n      <td>10.157500</td>\n    </tr>\n    <tr>\n      <th>50%</th>\n      <td>45.000000</td>\n      <td>0.000000</td>\n      <td>13.980000</td>\n    </tr>\n    <tr>\n      <th>75%</th>\n      <td>66.000000</td>\n      <td>0.000000</td>\n      <td>18.130000</td>\n    </tr>\n    <tr>\n      <th>max</th>\n      <td>100.000000</td>\n      <td>40.000000</td>\n      <td>31.640000</td>\n    </tr>\n  </tbody>\n</table>\n</div>"
     },
     "metadata": {},
     "execution_count": 4
    }
   ],
   "source": [
    "boulder_data.describe()"
   ]
  },
  {
   "cell_type": "code",
   "execution_count": 5,
   "metadata": {},
   "outputs": [
    {
     "output_type": "stream",
     "name": "stdout",
     "text": [
      "Thursday\n"
     ]
    }
   ],
   "source": [
    "## I WANT THE OPPOSITE LOL\n",
    "day_name = ['Monday', 'Tuesday', 'Wednesday', 'Thursday', 'Friday', 'Saturday','Sunday']\n",
    "date = '2020/09/03'\n",
    "day = datetime.strptime(date, '%Y/%m/%d').weekday()\n",
    "print(day_name[day])"
   ]
  },
  {
   "cell_type": "code",
   "execution_count": 6,
   "metadata": {},
   "outputs": [
    {
     "output_type": "stream",
     "name": "stdout",
     "text": [
      "3\nthursday\n"
     ]
    }
   ],
   "source": [
    "day_name = ['monday', 'tuesday', 'wednesday', 'thursday', 'friday', 'saturday','sunday']\n",
    "date = '2020/09/03'\n",
    "day = datetime.strptime(date, '%Y/%m/%d').weekday()\n",
    "print(day)\n",
    "print(day_name[day])"
   ]
  },
  {
   "cell_type": "code",
   "execution_count": 7,
   "metadata": {},
   "outputs": [],
   "source": [
    "# boulder_data[boulder_data.current_time.day == 3]\n"
   ]
  },
  {
   "cell_type": "code",
   "execution_count": 40,
   "metadata": {},
   "outputs": [
    {
     "output_type": "execute_result",
     "data": {
      "text/plain": [
       "\"\\nclosed_times = ['23:', '00:', '01:', '02:', '03:', '04:', '05:', '06:']\\n\\nfor i in closed_times:\\n    ave_temp_data = boulder_data[~boulder_data.current_time.str.contains(i)]\\n\""
      ]
     },
     "metadata": {},
     "execution_count": 40
    }
   ],
   "source": [
    "# maybe select start & end dates first (list through the current_time.unique() - maybe use generator?)\n",
    "# for the dates in the list of dates:\n",
    "#    if date == right day number, append to a list of dates\n",
    "# then filter the df for the dates in the list\n",
    "# then aggregate data on those\n",
    "# similar to:\n",
    "\"\"\"\n",
    "closed_times = ['23:', '00:', '01:', '02:', '03:', '04:', '05:', '06:']\n",
    "\n",
    "for i in closed_times:\n",
    "    ave_temp_data = boulder_data[~boulder_data.current_time.str.contains(i)]\n",
    "\"\"\""
   ]
  },
  {
   "cell_type": "code",
   "execution_count": 10,
   "metadata": {},
   "outputs": [
    {
     "output_type": "stream",
     "name": "stdout",
     "text": [
      "2020/10/29 17:00\n3\nthursday\n"
     ]
    }
   ],
   "source": [
    "for x in boulder_data.current_time.unique():\n",
    "    print(x)\n",
    "    day_name = ['monday', 'tuesday', 'wednesday', 'thursday', 'friday', 'saturday','sunday']\n",
    "    date = x\n",
    "    day = datetime.strptime(date, '%Y/%m/%d %H:%M').weekday()\n",
    "    print(day)\n",
    "    print(day_name[day])\n",
    "    break"
   ]
  },
  {
   "cell_type": "code",
   "execution_count": 12,
   "metadata": {},
   "outputs": [],
   "source": [
    "def return_all_dates(unique_array):\n",
    "    yield unique_array"
   ]
  },
  {
   "cell_type": "code",
   "execution_count": 16,
   "metadata": {},
   "outputs": [
    {
     "output_type": "execute_result",
     "data": {
      "text/plain": [
       "'2020/10/29 17:00'"
      ]
     },
     "metadata": {},
     "execution_count": 16
    }
   ],
   "source": [
    "list(return_all_dates(boulder_data.current_time.unique()))[0][0]"
   ]
  },
  {
   "cell_type": "code",
   "execution_count": 31,
   "metadata": {},
   "outputs": [],
   "source": [
    "def avg_data_day(chosen_day):\n",
    "    day_name = ['monday', 'tuesday', 'wednesday', 'thursday', 'friday', 'saturday','sunday']\n",
    "    for ind, day in enumerate(day_name):\n",
    "        if chosen_day.lower() == day:\n",
    "            day_num = ind\n",
    "    \n",
    "    list_of_data = []\n",
    "    for x in boulder_data.current_time.unique():\n",
    "        date = x\n",
    "        day = datetime.strptime(date, '%Y/%m/%d %H:%M').weekday()\n",
    "        if day == day_num:\n",
    "            list_of_data.append(x)\n",
    "    return list_of_data"
   ]
  },
  {
   "cell_type": "code",
   "execution_count": 32,
   "metadata": {},
   "outputs": [
    {
     "output_type": "execute_result",
     "data": {
      "text/plain": [
       "['2020/10/26 20:00',\n",
       " '2020/10/26 17:00',\n",
       " '2020/10/26 16:00',\n",
       " '2020/10/26 15:00',\n",
       " '2020/10/19 20:00',\n",
       " '2020/10/19 19:30',\n",
       " '2020/10/19 17:00',\n",
       " '2020/10/19 15:00',\n",
       " '2020/10/19 07:00',\n",
       " '2020/10/12 22:00',\n",
       " '2020/10/12 20:00',\n",
       " '2020/10/12 17:00',\n",
       " '2020/10/12 16:00',\n",
       " '2020/10/12 15:00',\n",
       " '2020/10/12 14:00',\n",
       " '2020/10/12 07:00',\n",
       " '2020/10/05 20:00',\n",
       " '2020/10/05 17:00',\n",
       " '2020/10/05 16:00',\n",
       " '2020/10/05 15:00',\n",
       " '2020/10/05 14:00',\n",
       " '2020/10/05 07:00',\n",
       " '2020/09/28 20:00',\n",
       " '2020/09/28 18:00',\n",
       " '2020/09/28 17:00',\n",
       " '2020/09/28 16:00',\n",
       " '2020/09/28 14:00',\n",
       " '2020/09/28 07:00',\n",
       " '2020/09/21 22:15',\n",
       " '2020/09/21 21:45',\n",
       " '2020/09/21 20:00',\n",
       " '2020/09/21 19:30',\n",
       " '2020/09/21 17:15',\n",
       " '2020/09/21 17:00',\n",
       " '2020/09/21 15:00',\n",
       " '2020/09/21 14:45',\n",
       " '2020/09/21 14:00',\n",
       " '2020/09/21 13:45',\n",
       " '2020/09/21 13:15',\n",
       " '2020/09/21 13:00',\n",
       " '2020/09/21 11:45',\n",
       " '2020/09/21 11:30',\n",
       " '2020/09/14 21:00',\n",
       " '2020/09/14 19:30',\n",
       " '2020/09/14 19:00',\n",
       " '2020/09/14 17:00',\n",
       " '2020/09/14 16:00',\n",
       " '2020/09/14 14:00',\n",
       " '2020/09/14 07:00',\n",
       " '2020/09/07 22:30',\n",
       " '2020/09/07 21:45',\n",
       " '2020/09/07 20:00',\n",
       " '2020/09/07 19:30',\n",
       " '2020/09/07 19:00',\n",
       " '2020/09/07 17:00',\n",
       " '2020/09/07 16:00',\n",
       " '2020/09/07 14:00',\n",
       " '2020/09/07 07:00']"
      ]
     },
     "metadata": {},
     "execution_count": 32
    }
   ],
   "source": [
    "avg_data_day('Monday')"
   ]
  },
  {
   "cell_type": "code",
   "execution_count": null,
   "metadata": {},
   "outputs": [],
   "source": []
  },
  {
   "cell_type": "code",
   "execution_count": null,
   "metadata": {},
   "outputs": [],
   "source": []
  },
  {
   "cell_type": "code",
   "execution_count": null,
   "metadata": {},
   "outputs": [],
   "source": []
  },
  {
   "cell_type": "code",
   "execution_count": null,
   "metadata": {},
   "outputs": [],
   "source": []
  },
  {
   "cell_type": "code",
   "execution_count": null,
   "metadata": {},
   "outputs": [],
   "source": []
  },
  {
   "cell_type": "code",
   "execution_count": null,
   "metadata": {},
   "outputs": [],
   "source": []
  }
 ]
}