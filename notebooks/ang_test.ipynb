{
 "metadata": {
  "language_info": {
   "codemirror_mode": {
    "name": "ipython",
    "version": 3
   },
   "file_extension": ".py",
   "mimetype": "text/x-python",
   "name": "python",
   "nbconvert_exporter": "python",
   "pygments_lexer": "ipython3",
   "version": "3.8.5-final"
  },
  "orig_nbformat": 2,
  "kernelspec": {
   "name": "python3",
   "display_name": "Python 3.8.5 64-bit",
   "metadata": {
    "interpreter": {
     "hash": "af7e8b858a93f87b8b5b1435451d182fd8be0d4fe9a6c5347e65a1845e5f755f"
    }
   }
  }
 },
 "nbformat": 4,
 "nbformat_minor": 2,
 "cells": [
  {
   "cell_type": "code",
   "execution_count": 11,
   "metadata": {},
   "outputs": [],
   "source": [
    "import pandas as pd\n",
    "import datetime"
   ]
  },
  {
   "cell_type": "code",
   "execution_count": 85,
   "metadata": {},
   "outputs": [],
   "source": [
    "boulderdf = pd.read_csv(\"~/Developer/boulder/boulderdata.csv\")"
   ]
  },
  {
   "cell_type": "code",
   "execution_count": 86,
   "metadata": {},
   "outputs": [
    {
     "output_type": "execute_result",
     "data": {
      "text/plain": [
       "        gym_name      current_time  occupancy  waiting  weather_temp  \\\n",
       "0     regensburg  2020/10/29 17:00       68.0      0.0          7.42   \n",
       "1  muenchen-west  2020/10/29 17:00       27.0      0.0          9.09   \n",
       "2      frankfurt  2020/10/29 17:00       59.0      0.0         10.75   \n",
       "3       dortmund  2020/10/29 17:00       11.0      0.0          9.99   \n",
       "4   muenchen-ost  2020/10/29 17:00      100.0     14.0          9.09   \n",
       "\n",
       "  weather_status  \n",
       "0           Rain  \n",
       "1           Rain  \n",
       "2           Rain  \n",
       "3           Rain  \n",
       "4           Rain  "
      ],
      "text/html": "<div>\n<style scoped>\n    .dataframe tbody tr th:only-of-type {\n        vertical-align: middle;\n    }\n\n    .dataframe tbody tr th {\n        vertical-align: top;\n    }\n\n    .dataframe thead th {\n        text-align: right;\n    }\n</style>\n<table border=\"1\" class=\"dataframe\">\n  <thead>\n    <tr style=\"text-align: right;\">\n      <th></th>\n      <th>gym_name</th>\n      <th>current_time</th>\n      <th>occupancy</th>\n      <th>waiting</th>\n      <th>weather_temp</th>\n      <th>weather_status</th>\n    </tr>\n  </thead>\n  <tbody>\n    <tr>\n      <th>0</th>\n      <td>regensburg</td>\n      <td>2020/10/29 17:00</td>\n      <td>68.0</td>\n      <td>0.0</td>\n      <td>7.42</td>\n      <td>Rain</td>\n    </tr>\n    <tr>\n      <th>1</th>\n      <td>muenchen-west</td>\n      <td>2020/10/29 17:00</td>\n      <td>27.0</td>\n      <td>0.0</td>\n      <td>9.09</td>\n      <td>Rain</td>\n    </tr>\n    <tr>\n      <th>2</th>\n      <td>frankfurt</td>\n      <td>2020/10/29 17:00</td>\n      <td>59.0</td>\n      <td>0.0</td>\n      <td>10.75</td>\n      <td>Rain</td>\n    </tr>\n    <tr>\n      <th>3</th>\n      <td>dortmund</td>\n      <td>2020/10/29 17:00</td>\n      <td>11.0</td>\n      <td>0.0</td>\n      <td>9.99</td>\n      <td>Rain</td>\n    </tr>\n    <tr>\n      <th>4</th>\n      <td>muenchen-ost</td>\n      <td>2020/10/29 17:00</td>\n      <td>100.0</td>\n      <td>14.0</td>\n      <td>9.09</td>\n      <td>Rain</td>\n    </tr>\n  </tbody>\n</table>\n</div>"
     },
     "metadata": {},
     "execution_count": 86
    }
   ],
   "source": [
    "boulderdf.head()"
   ]
  },
  {
   "cell_type": "code",
   "execution_count": 87,
   "metadata": {},
   "outputs": [],
   "source": [
    "boulderdf['current_time'] = pd.to_datetime(boulderdf['current_time'])"
   ]
  },
  {
   "cell_type": "code",
   "execution_count": 88,
   "metadata": {},
   "outputs": [
    {
     "output_type": "execute_result",
     "data": {
      "text/plain": [
       "         gym_name        current_time  occupancy  waiting  weather_temp  \\\n",
       "0      regensburg 2020-10-29 17:00:00       68.0      0.0          7.42   \n",
       "1   muenchen-west 2020-10-29 17:00:00       27.0      0.0          9.09   \n",
       "2       frankfurt 2020-10-29 17:00:00       59.0      0.0         10.75   \n",
       "3        dortmund 2020-10-29 17:00:00       11.0      0.0          9.99   \n",
       "4    muenchen-ost 2020-10-29 17:00:00      100.0     14.0          9.09   \n",
       "5    muenchen-ost 2020-10-29 16:45:00       91.0      0.0          9.03   \n",
       "6   muenchen-west 2020-10-29 16:45:00       27.0      0.0          9.03   \n",
       "7      regensburg 2020-10-29 16:45:00       68.0      0.0          7.16   \n",
       "8        dortmund 2020-10-29 16:45:00       11.0      0.0          9.91   \n",
       "9       frankfurt 2020-10-29 16:45:00       50.0      0.0         10.75   \n",
       "10  muenchen-west 2020-10-29 15:00:00       27.0      0.0          9.36   \n",
       "11     regensburg 2020-10-29 15:00:00       68.0      0.0          7.84   \n",
       "12   muenchen-ost 2020-10-29 15:00:00       80.0      0.0          9.36   \n",
       "13       dortmund 2020-10-29 15:00:00       11.0      0.0         11.35   \n",
       "14      frankfurt 2020-10-29 15:00:00       22.0      0.0         10.79   \n",
       "15  muenchen-west 2020-10-28 20:00:00       32.0      0.0          9.19   \n",
       "16     regensburg 2020-10-28 20:00:00       83.0      0.0          6.61   \n",
       "17       dortmund 2020-10-28 20:00:00       31.0      0.0         11.09   \n",
       "18   muenchen-ost 2020-10-28 20:00:00      100.0      8.0          9.19   \n",
       "19      frankfurt 2020-10-28 20:00:00       27.0      0.0         12.58   \n",
       "\n",
       "   weather_status  \n",
       "0            Rain  \n",
       "1            Rain  \n",
       "2            Rain  \n",
       "3            Rain  \n",
       "4            Rain  \n",
       "5            Rain  \n",
       "6            Rain  \n",
       "7            Rain  \n",
       "8            Rain  \n",
       "9            Rain  \n",
       "10           Rain  \n",
       "11           Rain  \n",
       "12           Rain  \n",
       "13           Rain  \n",
       "14           Rain  \n",
       "15         Clouds  \n",
       "16           Mist  \n",
       "17           Rain  \n",
       "18         Clouds  \n",
       "19         Clouds  "
      ],
      "text/html": "<div>\n<style scoped>\n    .dataframe tbody tr th:only-of-type {\n        vertical-align: middle;\n    }\n\n    .dataframe tbody tr th {\n        vertical-align: top;\n    }\n\n    .dataframe thead th {\n        text-align: right;\n    }\n</style>\n<table border=\"1\" class=\"dataframe\">\n  <thead>\n    <tr style=\"text-align: right;\">\n      <th></th>\n      <th>gym_name</th>\n      <th>current_time</th>\n      <th>occupancy</th>\n      <th>waiting</th>\n      <th>weather_temp</th>\n      <th>weather_status</th>\n    </tr>\n  </thead>\n  <tbody>\n    <tr>\n      <th>0</th>\n      <td>regensburg</td>\n      <td>2020-10-29 17:00:00</td>\n      <td>68.0</td>\n      <td>0.0</td>\n      <td>7.42</td>\n      <td>Rain</td>\n    </tr>\n    <tr>\n      <th>1</th>\n      <td>muenchen-west</td>\n      <td>2020-10-29 17:00:00</td>\n      <td>27.0</td>\n      <td>0.0</td>\n      <td>9.09</td>\n      <td>Rain</td>\n    </tr>\n    <tr>\n      <th>2</th>\n      <td>frankfurt</td>\n      <td>2020-10-29 17:00:00</td>\n      <td>59.0</td>\n      <td>0.0</td>\n      <td>10.75</td>\n      <td>Rain</td>\n    </tr>\n    <tr>\n      <th>3</th>\n      <td>dortmund</td>\n      <td>2020-10-29 17:00:00</td>\n      <td>11.0</td>\n      <td>0.0</td>\n      <td>9.99</td>\n      <td>Rain</td>\n    </tr>\n    <tr>\n      <th>4</th>\n      <td>muenchen-ost</td>\n      <td>2020-10-29 17:00:00</td>\n      <td>100.0</td>\n      <td>14.0</td>\n      <td>9.09</td>\n      <td>Rain</td>\n    </tr>\n    <tr>\n      <th>5</th>\n      <td>muenchen-ost</td>\n      <td>2020-10-29 16:45:00</td>\n      <td>91.0</td>\n      <td>0.0</td>\n      <td>9.03</td>\n      <td>Rain</td>\n    </tr>\n    <tr>\n      <th>6</th>\n      <td>muenchen-west</td>\n      <td>2020-10-29 16:45:00</td>\n      <td>27.0</td>\n      <td>0.0</td>\n      <td>9.03</td>\n      <td>Rain</td>\n    </tr>\n    <tr>\n      <th>7</th>\n      <td>regensburg</td>\n      <td>2020-10-29 16:45:00</td>\n      <td>68.0</td>\n      <td>0.0</td>\n      <td>7.16</td>\n      <td>Rain</td>\n    </tr>\n    <tr>\n      <th>8</th>\n      <td>dortmund</td>\n      <td>2020-10-29 16:45:00</td>\n      <td>11.0</td>\n      <td>0.0</td>\n      <td>9.91</td>\n      <td>Rain</td>\n    </tr>\n    <tr>\n      <th>9</th>\n      <td>frankfurt</td>\n      <td>2020-10-29 16:45:00</td>\n      <td>50.0</td>\n      <td>0.0</td>\n      <td>10.75</td>\n      <td>Rain</td>\n    </tr>\n    <tr>\n      <th>10</th>\n      <td>muenchen-west</td>\n      <td>2020-10-29 15:00:00</td>\n      <td>27.0</td>\n      <td>0.0</td>\n      <td>9.36</td>\n      <td>Rain</td>\n    </tr>\n    <tr>\n      <th>11</th>\n      <td>regensburg</td>\n      <td>2020-10-29 15:00:00</td>\n      <td>68.0</td>\n      <td>0.0</td>\n      <td>7.84</td>\n      <td>Rain</td>\n    </tr>\n    <tr>\n      <th>12</th>\n      <td>muenchen-ost</td>\n      <td>2020-10-29 15:00:00</td>\n      <td>80.0</td>\n      <td>0.0</td>\n      <td>9.36</td>\n      <td>Rain</td>\n    </tr>\n    <tr>\n      <th>13</th>\n      <td>dortmund</td>\n      <td>2020-10-29 15:00:00</td>\n      <td>11.0</td>\n      <td>0.0</td>\n      <td>11.35</td>\n      <td>Rain</td>\n    </tr>\n    <tr>\n      <th>14</th>\n      <td>frankfurt</td>\n      <td>2020-10-29 15:00:00</td>\n      <td>22.0</td>\n      <td>0.0</td>\n      <td>10.79</td>\n      <td>Rain</td>\n    </tr>\n    <tr>\n      <th>15</th>\n      <td>muenchen-west</td>\n      <td>2020-10-28 20:00:00</td>\n      <td>32.0</td>\n      <td>0.0</td>\n      <td>9.19</td>\n      <td>Clouds</td>\n    </tr>\n    <tr>\n      <th>16</th>\n      <td>regensburg</td>\n      <td>2020-10-28 20:00:00</td>\n      <td>83.0</td>\n      <td>0.0</td>\n      <td>6.61</td>\n      <td>Mist</td>\n    </tr>\n    <tr>\n      <th>17</th>\n      <td>dortmund</td>\n      <td>2020-10-28 20:00:00</td>\n      <td>31.0</td>\n      <td>0.0</td>\n      <td>11.09</td>\n      <td>Rain</td>\n    </tr>\n    <tr>\n      <th>18</th>\n      <td>muenchen-ost</td>\n      <td>2020-10-28 20:00:00</td>\n      <td>100.0</td>\n      <td>8.0</td>\n      <td>9.19</td>\n      <td>Clouds</td>\n    </tr>\n    <tr>\n      <th>19</th>\n      <td>frankfurt</td>\n      <td>2020-10-28 20:00:00</td>\n      <td>27.0</td>\n      <td>0.0</td>\n      <td>12.58</td>\n      <td>Clouds</td>\n    </tr>\n  </tbody>\n</table>\n</div>"
     },
     "metadata": {},
     "execution_count": 88
    }
   ],
   "source": [
    "boulderdf.head(20)"
   ]
  },
  {
   "cell_type": "code",
   "execution_count": 89,
   "metadata": {},
   "outputs": [
    {
     "output_type": "execute_result",
     "data": {
      "text/plain": [
       "'2020-10-28'"
      ]
     },
     "metadata": {},
     "execution_count": 89
    }
   ],
   "source": [
    "selected_date = datetime.date(2020, 10, 28).strftime(\"%Y-%m-%d\")\n",
    "selected_date"
   ]
  },
  {
   "cell_type": "code",
   "execution_count": 90,
   "metadata": {},
   "outputs": [
    {
     "output_type": "execute_result",
     "data": {
      "text/plain": [
       "         gym_name        current_time  occupancy  waiting  weather_temp  \\\n",
       "15  muenchen-west 2020-10-28 20:00:00       32.0      0.0          9.19   \n",
       "16     regensburg 2020-10-28 20:00:00       83.0      0.0          6.61   \n",
       "17       dortmund 2020-10-28 20:00:00       31.0      0.0         11.09   \n",
       "18   muenchen-ost 2020-10-28 20:00:00      100.0      8.0          9.19   \n",
       "19      frankfurt 2020-10-28 20:00:00       27.0      0.0         12.58   \n",
       "20     regensburg 2020-10-28 19:30:00       83.0      0.0          6.61   \n",
       "21  muenchen-west 2020-10-28 19:30:00       32.0      0.0          9.38   \n",
       "22      frankfurt 2020-10-28 19:30:00       27.0      0.0         12.53   \n",
       "23   muenchen-ost 2020-10-28 19:30:00      100.0      8.0          9.38   \n",
       "24       dortmund 2020-10-28 19:30:00       31.0      0.0         11.35   \n",
       "\n",
       "   weather_status  \n",
       "15         Clouds  \n",
       "16           Mist  \n",
       "17           Rain  \n",
       "18         Clouds  \n",
       "19         Clouds  \n",
       "20         Clouds  \n",
       "21         Clouds  \n",
       "22          Clear  \n",
       "23         Clouds  \n",
       "24           Rain  "
      ],
      "text/html": "<div>\n<style scoped>\n    .dataframe tbody tr th:only-of-type {\n        vertical-align: middle;\n    }\n\n    .dataframe tbody tr th {\n        vertical-align: top;\n    }\n\n    .dataframe thead th {\n        text-align: right;\n    }\n</style>\n<table border=\"1\" class=\"dataframe\">\n  <thead>\n    <tr style=\"text-align: right;\">\n      <th></th>\n      <th>gym_name</th>\n      <th>current_time</th>\n      <th>occupancy</th>\n      <th>waiting</th>\n      <th>weather_temp</th>\n      <th>weather_status</th>\n    </tr>\n  </thead>\n  <tbody>\n    <tr>\n      <th>15</th>\n      <td>muenchen-west</td>\n      <td>2020-10-28 20:00:00</td>\n      <td>32.0</td>\n      <td>0.0</td>\n      <td>9.19</td>\n      <td>Clouds</td>\n    </tr>\n    <tr>\n      <th>16</th>\n      <td>regensburg</td>\n      <td>2020-10-28 20:00:00</td>\n      <td>83.0</td>\n      <td>0.0</td>\n      <td>6.61</td>\n      <td>Mist</td>\n    </tr>\n    <tr>\n      <th>17</th>\n      <td>dortmund</td>\n      <td>2020-10-28 20:00:00</td>\n      <td>31.0</td>\n      <td>0.0</td>\n      <td>11.09</td>\n      <td>Rain</td>\n    </tr>\n    <tr>\n      <th>18</th>\n      <td>muenchen-ost</td>\n      <td>2020-10-28 20:00:00</td>\n      <td>100.0</td>\n      <td>8.0</td>\n      <td>9.19</td>\n      <td>Clouds</td>\n    </tr>\n    <tr>\n      <th>19</th>\n      <td>frankfurt</td>\n      <td>2020-10-28 20:00:00</td>\n      <td>27.0</td>\n      <td>0.0</td>\n      <td>12.58</td>\n      <td>Clouds</td>\n    </tr>\n    <tr>\n      <th>20</th>\n      <td>regensburg</td>\n      <td>2020-10-28 19:30:00</td>\n      <td>83.0</td>\n      <td>0.0</td>\n      <td>6.61</td>\n      <td>Clouds</td>\n    </tr>\n    <tr>\n      <th>21</th>\n      <td>muenchen-west</td>\n      <td>2020-10-28 19:30:00</td>\n      <td>32.0</td>\n      <td>0.0</td>\n      <td>9.38</td>\n      <td>Clouds</td>\n    </tr>\n    <tr>\n      <th>22</th>\n      <td>frankfurt</td>\n      <td>2020-10-28 19:30:00</td>\n      <td>27.0</td>\n      <td>0.0</td>\n      <td>12.53</td>\n      <td>Clear</td>\n    </tr>\n    <tr>\n      <th>23</th>\n      <td>muenchen-ost</td>\n      <td>2020-10-28 19:30:00</td>\n      <td>100.0</td>\n      <td>8.0</td>\n      <td>9.38</td>\n      <td>Clouds</td>\n    </tr>\n    <tr>\n      <th>24</th>\n      <td>dortmund</td>\n      <td>2020-10-28 19:30:00</td>\n      <td>31.0</td>\n      <td>0.0</td>\n      <td>11.35</td>\n      <td>Rain</td>\n    </tr>\n  </tbody>\n</table>\n</div>"
     },
     "metadata": {},
     "execution_count": 90
    }
   ],
   "source": [
    "testdf = boulderdf[boulderdf.current_time.astype(str).str.contains(selected_date)]\n",
    "testdf.head(10)"
   ]
  },
  {
   "cell_type": "code",
   "execution_count": 91,
   "metadata": {},
   "outputs": [
    {
     "output_type": "execute_result",
     "data": {
      "text/plain": [
       "          gym_name        current_time  occupancy  waiting  weather_temp  \\\n",
       "15   muenchen-west 2020-10-28 20:00:00       32.0      0.0          9.19   \n",
       "21   muenchen-west 2020-10-28 19:30:00       32.0      0.0          9.38   \n",
       "29   muenchen-west 2020-10-28 16:00:00       32.0      0.0         11.84   \n",
       "33   muenchen-west 2020-10-28 15:00:00       32.0      0.0         12.90   \n",
       "204  muenchen-west 2020-10-28 16:00:00       32.0      0.0         11.84   \n",
       "208  muenchen-west 2020-10-28 15:00:00       32.0      0.0         12.90   \n",
       "\n",
       "    weather_status  \n",
       "15          Clouds  \n",
       "21          Clouds  \n",
       "29          Clouds  \n",
       "33          Clouds  \n",
       "204         Clouds  \n",
       "208         Clouds  "
      ],
      "text/html": "<div>\n<style scoped>\n    .dataframe tbody tr th:only-of-type {\n        vertical-align: middle;\n    }\n\n    .dataframe tbody tr th {\n        vertical-align: top;\n    }\n\n    .dataframe thead th {\n        text-align: right;\n    }\n</style>\n<table border=\"1\" class=\"dataframe\">\n  <thead>\n    <tr style=\"text-align: right;\">\n      <th></th>\n      <th>gym_name</th>\n      <th>current_time</th>\n      <th>occupancy</th>\n      <th>waiting</th>\n      <th>weather_temp</th>\n      <th>weather_status</th>\n    </tr>\n  </thead>\n  <tbody>\n    <tr>\n      <th>15</th>\n      <td>muenchen-west</td>\n      <td>2020-10-28 20:00:00</td>\n      <td>32.0</td>\n      <td>0.0</td>\n      <td>9.19</td>\n      <td>Clouds</td>\n    </tr>\n    <tr>\n      <th>21</th>\n      <td>muenchen-west</td>\n      <td>2020-10-28 19:30:00</td>\n      <td>32.0</td>\n      <td>0.0</td>\n      <td>9.38</td>\n      <td>Clouds</td>\n    </tr>\n    <tr>\n      <th>29</th>\n      <td>muenchen-west</td>\n      <td>2020-10-28 16:00:00</td>\n      <td>32.0</td>\n      <td>0.0</td>\n      <td>11.84</td>\n      <td>Clouds</td>\n    </tr>\n    <tr>\n      <th>33</th>\n      <td>muenchen-west</td>\n      <td>2020-10-28 15:00:00</td>\n      <td>32.0</td>\n      <td>0.0</td>\n      <td>12.90</td>\n      <td>Clouds</td>\n    </tr>\n    <tr>\n      <th>204</th>\n      <td>muenchen-west</td>\n      <td>2020-10-28 16:00:00</td>\n      <td>32.0</td>\n      <td>0.0</td>\n      <td>11.84</td>\n      <td>Clouds</td>\n    </tr>\n    <tr>\n      <th>208</th>\n      <td>muenchen-west</td>\n      <td>2020-10-28 15:00:00</td>\n      <td>32.0</td>\n      <td>0.0</td>\n      <td>12.90</td>\n      <td>Clouds</td>\n    </tr>\n  </tbody>\n</table>\n</div>"
     },
     "metadata": {},
     "execution_count": 91
    }
   ],
   "source": [
    "testdf = testdf[testdf['gym_name'] == \"muenchen-west\"]\n",
    "testdf\n",
    "# should check for duplicates in the df!"
   ]
  },
  {
   "cell_type": "code",
   "execution_count": 92,
   "metadata": {},
   "outputs": [
    {
     "output_type": "execute_result",
     "data": {
      "text/plain": [
       "datetime.date(2021, 4, 15)"
      ]
     },
     "metadata": {},
     "execution_count": 92
    }
   ],
   "source": [
    "yesterday = today - datetime.timedelta(days=1)\n",
    "yesterday"
   ]
  },
  {
   "cell_type": "code",
   "execution_count": 95,
   "metadata": {},
   "outputs": [
    {
     "output_type": "execute_result",
     "data": {
      "text/plain": [
       "           current_time  occupancy  waiting  weather_temp weather_status\n",
       "33  2021-04-17 15:00:00       32.0      0.0         12.90         Clouds\n",
       "208 2021-04-17 15:00:00       32.0      0.0         12.90         Clouds\n",
       "29  2021-04-17 16:00:00       32.0      0.0         11.84         Clouds\n",
       "204 2021-04-17 16:00:00       32.0      0.0         11.84         Clouds\n",
       "21  2021-04-17 19:30:00       32.0      0.0          9.38         Clouds\n",
       "15  2021-04-17 20:00:00       32.0      0.0          9.19         Clouds"
      ],
      "text/html": "<div>\n<style scoped>\n    .dataframe tbody tr th:only-of-type {\n        vertical-align: middle;\n    }\n\n    .dataframe tbody tr th {\n        vertical-align: top;\n    }\n\n    .dataframe thead th {\n        text-align: right;\n    }\n</style>\n<table border=\"1\" class=\"dataframe\">\n  <thead>\n    <tr style=\"text-align: right;\">\n      <th></th>\n      <th>current_time</th>\n      <th>occupancy</th>\n      <th>waiting</th>\n      <th>weather_temp</th>\n      <th>weather_status</th>\n    </tr>\n  </thead>\n  <tbody>\n    <tr>\n      <th>33</th>\n      <td>2021-04-17 15:00:00</td>\n      <td>32.0</td>\n      <td>0.0</td>\n      <td>12.90</td>\n      <td>Clouds</td>\n    </tr>\n    <tr>\n      <th>208</th>\n      <td>2021-04-17 15:00:00</td>\n      <td>32.0</td>\n      <td>0.0</td>\n      <td>12.90</td>\n      <td>Clouds</td>\n    </tr>\n    <tr>\n      <th>29</th>\n      <td>2021-04-17 16:00:00</td>\n      <td>32.0</td>\n      <td>0.0</td>\n      <td>11.84</td>\n      <td>Clouds</td>\n    </tr>\n    <tr>\n      <th>204</th>\n      <td>2021-04-17 16:00:00</td>\n      <td>32.0</td>\n      <td>0.0</td>\n      <td>11.84</td>\n      <td>Clouds</td>\n    </tr>\n    <tr>\n      <th>21</th>\n      <td>2021-04-17 19:30:00</td>\n      <td>32.0</td>\n      <td>0.0</td>\n      <td>9.38</td>\n      <td>Clouds</td>\n    </tr>\n    <tr>\n      <th>15</th>\n      <td>2021-04-17 20:00:00</td>\n      <td>32.0</td>\n      <td>0.0</td>\n      <td>9.19</td>\n      <td>Clouds</td>\n    </tr>\n  </tbody>\n</table>\n</div>"
     },
     "metadata": {},
     "execution_count": 95
    }
   ],
   "source": [
    "# testdf['current_time'] = testdf['current_time'].astype(dt).dt.strftime('%H:%M')\n",
    "testdf['current_time'] = pd.to_datetime(testdf['current_time']) #.dt.strftime('%H:%M')\n",
    "testdf.drop(['gym_name'], inplace=True, axis=1)\n",
    "\n",
    "# sort the data by time\n",
    "testdf.sort_values(by=['current_time'], inplace=True)\n",
    "testdf"
   ]
  },
  {
   "cell_type": "code",
   "execution_count": 99,
   "metadata": {},
   "outputs": [
    {
     "output_type": "execute_result",
     "data": {
      "text/plain": [
       "          current_time  occupancy  waiting  weather_temp weather_status\n",
       "33 2021-04-17 15:00:00       32.0      0.0         12.90         Clouds\n",
       "29 2021-04-17 16:00:00       32.0      0.0         11.84         Clouds\n",
       "21 2021-04-17 19:30:00       32.0      0.0          9.38         Clouds\n",
       "15 2021-04-17 20:00:00       32.0      0.0          9.19         Clouds"
      ],
      "text/html": "<div>\n<style scoped>\n    .dataframe tbody tr th:only-of-type {\n        vertical-align: middle;\n    }\n\n    .dataframe tbody tr th {\n        vertical-align: top;\n    }\n\n    .dataframe thead th {\n        text-align: right;\n    }\n</style>\n<table border=\"1\" class=\"dataframe\">\n  <thead>\n    <tr style=\"text-align: right;\">\n      <th></th>\n      <th>current_time</th>\n      <th>occupancy</th>\n      <th>waiting</th>\n      <th>weather_temp</th>\n      <th>weather_status</th>\n    </tr>\n  </thead>\n  <tbody>\n    <tr>\n      <th>33</th>\n      <td>2021-04-17 15:00:00</td>\n      <td>32.0</td>\n      <td>0.0</td>\n      <td>12.90</td>\n      <td>Clouds</td>\n    </tr>\n    <tr>\n      <th>29</th>\n      <td>2021-04-17 16:00:00</td>\n      <td>32.0</td>\n      <td>0.0</td>\n      <td>11.84</td>\n      <td>Clouds</td>\n    </tr>\n    <tr>\n      <th>21</th>\n      <td>2021-04-17 19:30:00</td>\n      <td>32.0</td>\n      <td>0.0</td>\n      <td>9.38</td>\n      <td>Clouds</td>\n    </tr>\n    <tr>\n      <th>15</th>\n      <td>2021-04-17 20:00:00</td>\n      <td>32.0</td>\n      <td>0.0</td>\n      <td>9.19</td>\n      <td>Clouds</td>\n    </tr>\n  </tbody>\n</table>\n</div>"
     },
     "metadata": {},
     "execution_count": 99
    }
   ],
   "source": [
    "# reset index if needed\n",
    "testdf = testdf.drop([208])  # already did 204\n",
    "testdf"
   ]
  },
  {
   "cell_type": "code",
   "execution_count": null,
   "metadata": {},
   "outputs": [],
   "source": []
  },
  {
   "cell_type": "code",
   "execution_count": null,
   "metadata": {},
   "outputs": [],
   "source": []
  },
  {
   "cell_type": "code",
   "execution_count": 103,
   "metadata": {},
   "outputs": [
    {
     "output_type": "execute_result",
     "data": {
      "text/plain": [
       "1984"
      ]
     },
     "metadata": {},
     "execution_count": 103
    }
   ],
   "source": [
    "len(boulderdf)"
   ]
  },
  {
   "cell_type": "code",
   "execution_count": 117,
   "metadata": {},
   "outputs": [
    {
     "output_type": "stream",
     "name": "stdout",
     "text": [
      "305\n"
     ]
    },
    {
     "output_type": "execute_result",
     "data": {
      "text/plain": [
       "array(['2020-10-28T16:00:00.000000000', '2020-10-28T15:00:00.000000000',\n",
       "       '2020-10-27T20:00:00.000000000', '2020-10-27T17:00:00.000000000',\n",
       "       '2020-10-27T16:00:00.000000000', '2020-10-27T15:00:00.000000000',\n",
       "       '2020-10-27T07:00:00.000000000', '2020-10-26T20:00:00.000000000',\n",
       "       '2020-10-26T17:00:00.000000000', '2020-10-26T16:00:00.000000000',\n",
       "       '2020-10-26T15:00:00.000000000', '2020-10-25T20:00:00.000000000',\n",
       "       '2020-10-25T17:00:00.000000000', '2020-10-25T16:00:00.000000000',\n",
       "       '2020-10-25T15:00:00.000000000', '2020-10-25T09:00:00.000000000',\n",
       "       '2020-10-25T08:00:00.000000000', '2020-10-25T07:00:00.000000000',\n",
       "       '2020-10-24T22:00:00.000000000', '2020-10-24T20:00:00.000000000',\n",
       "       '2020-10-24T18:00:00.000000000', '2020-10-24T17:00:00.000000000',\n",
       "       '2020-10-24T16:00:00.000000000', '2020-10-24T15:00:00.000000000',\n",
       "       '2020-10-23T20:00:00.000000000', '2020-10-23T17:00:00.000000000',\n",
       "       '2020-10-23T07:00:00.000000000', '2020-10-22T20:00:00.000000000',\n",
       "       '2020-10-22T17:00:00.000000000', '2020-10-22T16:00:00.000000000',\n",
       "       '2020-10-22T15:00:00.000000000', '2020-10-22T07:00:00.000000000',\n",
       "       '2020-10-21T20:00:00.000000000', '2020-10-21T19:30:00.000000000',\n",
       "       '2020-10-21T16:00:00.000000000', '2020-10-21T15:00:00.000000000',\n",
       "       '2020-10-21T07:00:00.000000000'], dtype='datetime64[ns]')"
      ]
     },
     "metadata": {},
     "execution_count": 117
    }
   ],
   "source": [
    "# Select duplicate rows except first occurrence based on all columns\n",
    "duplicateRowsDF = boulderdf[boulderdf.duplicated()]\n",
    "\n",
    "print(len(duplicateRowsDF))\n",
    "duplicateRowsDF.current_time.unique()"
   ]
  },
  {
   "cell_type": "code",
   "execution_count": 111,
   "metadata": {},
   "outputs": [
    {
     "output_type": "execute_result",
     "data": {
      "text/plain": [
       "          gym_name        current_time  occupancy  waiting  weather_temp  \\\n",
       "25        dortmund 2020-10-28 16:00:00       31.0      0.0         13.17   \n",
       "26      regensburg 2020-10-28 16:00:00       64.0      0.0          8.10   \n",
       "27    muenchen-ost 2020-10-28 16:00:00       67.0      0.0         11.84   \n",
       "28       frankfurt 2020-10-28 16:00:00       27.0      0.0         13.65   \n",
       "29   muenchen-west 2020-10-28 16:00:00       32.0      0.0         11.84   \n",
       "..             ...                 ...        ...      ...           ...   \n",
       "500  muenchen-west 2020-10-21 07:00:00        5.0      0.0          6.27   \n",
       "501     regensburg 2020-10-21 07:00:00       66.0      0.0          6.07   \n",
       "502   muenchen-ost 2020-10-21 07:00:00       33.0      0.0          6.27   \n",
       "503      frankfurt 2020-10-21 07:00:00        7.0      0.0         10.87   \n",
       "504       dortmund 2020-10-21 07:00:00       49.0      0.0         12.14   \n",
       "\n",
       "    weather_status  \n",
       "25          Clouds  \n",
       "26          Clouds  \n",
       "27          Clouds  \n",
       "28          Clouds  \n",
       "29          Clouds  \n",
       "..             ...  \n",
       "500         Clouds  \n",
       "501         Clouds  \n",
       "502         Clouds  \n",
       "503           Rain  \n",
       "504           Rain  \n",
       "\n",
       "[480 rows x 6 columns]"
      ],
      "text/html": "<div>\n<style scoped>\n    .dataframe tbody tr th:only-of-type {\n        vertical-align: middle;\n    }\n\n    .dataframe tbody tr th {\n        vertical-align: top;\n    }\n\n    .dataframe thead th {\n        text-align: right;\n    }\n</style>\n<table border=\"1\" class=\"dataframe\">\n  <thead>\n    <tr style=\"text-align: right;\">\n      <th></th>\n      <th>gym_name</th>\n      <th>current_time</th>\n      <th>occupancy</th>\n      <th>waiting</th>\n      <th>weather_temp</th>\n      <th>weather_status</th>\n    </tr>\n  </thead>\n  <tbody>\n    <tr>\n      <th>25</th>\n      <td>dortmund</td>\n      <td>2020-10-28 16:00:00</td>\n      <td>31.0</td>\n      <td>0.0</td>\n      <td>13.17</td>\n      <td>Clouds</td>\n    </tr>\n    <tr>\n      <th>26</th>\n      <td>regensburg</td>\n      <td>2020-10-28 16:00:00</td>\n      <td>64.0</td>\n      <td>0.0</td>\n      <td>8.10</td>\n      <td>Clouds</td>\n    </tr>\n    <tr>\n      <th>27</th>\n      <td>muenchen-ost</td>\n      <td>2020-10-28 16:00:00</td>\n      <td>67.0</td>\n      <td>0.0</td>\n      <td>11.84</td>\n      <td>Clouds</td>\n    </tr>\n    <tr>\n      <th>28</th>\n      <td>frankfurt</td>\n      <td>2020-10-28 16:00:00</td>\n      <td>27.0</td>\n      <td>0.0</td>\n      <td>13.65</td>\n      <td>Clouds</td>\n    </tr>\n    <tr>\n      <th>29</th>\n      <td>muenchen-west</td>\n      <td>2020-10-28 16:00:00</td>\n      <td>32.0</td>\n      <td>0.0</td>\n      <td>11.84</td>\n      <td>Clouds</td>\n    </tr>\n    <tr>\n      <th>...</th>\n      <td>...</td>\n      <td>...</td>\n      <td>...</td>\n      <td>...</td>\n      <td>...</td>\n      <td>...</td>\n    </tr>\n    <tr>\n      <th>500</th>\n      <td>muenchen-west</td>\n      <td>2020-10-21 07:00:00</td>\n      <td>5.0</td>\n      <td>0.0</td>\n      <td>6.27</td>\n      <td>Clouds</td>\n    </tr>\n    <tr>\n      <th>501</th>\n      <td>regensburg</td>\n      <td>2020-10-21 07:00:00</td>\n      <td>66.0</td>\n      <td>0.0</td>\n      <td>6.07</td>\n      <td>Clouds</td>\n    </tr>\n    <tr>\n      <th>502</th>\n      <td>muenchen-ost</td>\n      <td>2020-10-21 07:00:00</td>\n      <td>33.0</td>\n      <td>0.0</td>\n      <td>6.27</td>\n      <td>Clouds</td>\n    </tr>\n    <tr>\n      <th>503</th>\n      <td>frankfurt</td>\n      <td>2020-10-21 07:00:00</td>\n      <td>7.0</td>\n      <td>0.0</td>\n      <td>10.87</td>\n      <td>Rain</td>\n    </tr>\n    <tr>\n      <th>504</th>\n      <td>dortmund</td>\n      <td>2020-10-21 07:00:00</td>\n      <td>49.0</td>\n      <td>0.0</td>\n      <td>12.14</td>\n      <td>Rain</td>\n    </tr>\n  </tbody>\n</table>\n<p>480 rows × 6 columns</p>\n</div>"
     },
     "metadata": {},
     "execution_count": 111
    }
   ],
   "source": [
    "duplicateRowsDF = boulderdf[boulderdf.duplicated(keep=False)] # show ALL rows\n",
    "duplicateRowsDF.head()"
   ]
  },
  {
   "source": [
    "- duplicates are rows: 200-504 (305 rows)  \n",
    "- now if I show ALL rows that are duplicates, we have 480 rows"
   ],
   "cell_type": "markdown",
   "metadata": {}
  },
  {
   "cell_type": "code",
   "execution_count": 114,
   "metadata": {},
   "outputs": [
    {
     "output_type": "execute_result",
     "data": {
      "text/plain": [
       "          gym_name        current_time  occupancy  waiting  weather_temp  \\\n",
       "25        dortmund 2020-10-28 16:00:00       31.0      0.0         13.17   \n",
       "26      regensburg 2020-10-28 16:00:00       64.0      0.0          8.10   \n",
       "27    muenchen-ost 2020-10-28 16:00:00       67.0      0.0         11.84   \n",
       "28       frankfurt 2020-10-28 16:00:00       27.0      0.0         13.65   \n",
       "29   muenchen-west 2020-10-28 16:00:00       32.0      0.0         11.84   \n",
       "..             ...                 ...        ...      ...           ...   \n",
       "195  muenchen-west 2020-10-21 07:00:00        5.0      0.0          6.27   \n",
       "196     regensburg 2020-10-21 07:00:00       66.0      0.0          6.07   \n",
       "197   muenchen-ost 2020-10-21 07:00:00       33.0      0.0          6.27   \n",
       "198      frankfurt 2020-10-21 07:00:00        7.0      0.0         10.87   \n",
       "199       dortmund 2020-10-21 07:00:00       49.0      0.0         12.14   \n",
       "\n",
       "    weather_status  \n",
       "25          Clouds  \n",
       "26          Clouds  \n",
       "27          Clouds  \n",
       "28          Clouds  \n",
       "29          Clouds  \n",
       "..             ...  \n",
       "195         Clouds  \n",
       "196         Clouds  \n",
       "197         Clouds  \n",
       "198           Rain  \n",
       "199           Rain  \n",
       "\n",
       "[175 rows x 6 columns]"
      ],
      "text/html": "<div>\n<style scoped>\n    .dataframe tbody tr th:only-of-type {\n        vertical-align: middle;\n    }\n\n    .dataframe tbody tr th {\n        vertical-align: top;\n    }\n\n    .dataframe thead th {\n        text-align: right;\n    }\n</style>\n<table border=\"1\" class=\"dataframe\">\n  <thead>\n    <tr style=\"text-align: right;\">\n      <th></th>\n      <th>gym_name</th>\n      <th>current_time</th>\n      <th>occupancy</th>\n      <th>waiting</th>\n      <th>weather_temp</th>\n      <th>weather_status</th>\n    </tr>\n  </thead>\n  <tbody>\n    <tr>\n      <th>25</th>\n      <td>dortmund</td>\n      <td>2020-10-28 16:00:00</td>\n      <td>31.0</td>\n      <td>0.0</td>\n      <td>13.17</td>\n      <td>Clouds</td>\n    </tr>\n    <tr>\n      <th>26</th>\n      <td>regensburg</td>\n      <td>2020-10-28 16:00:00</td>\n      <td>64.0</td>\n      <td>0.0</td>\n      <td>8.10</td>\n      <td>Clouds</td>\n    </tr>\n    <tr>\n      <th>27</th>\n      <td>muenchen-ost</td>\n      <td>2020-10-28 16:00:00</td>\n      <td>67.0</td>\n      <td>0.0</td>\n      <td>11.84</td>\n      <td>Clouds</td>\n    </tr>\n    <tr>\n      <th>28</th>\n      <td>frankfurt</td>\n      <td>2020-10-28 16:00:00</td>\n      <td>27.0</td>\n      <td>0.0</td>\n      <td>13.65</td>\n      <td>Clouds</td>\n    </tr>\n    <tr>\n      <th>29</th>\n      <td>muenchen-west</td>\n      <td>2020-10-28 16:00:00</td>\n      <td>32.0</td>\n      <td>0.0</td>\n      <td>11.84</td>\n      <td>Clouds</td>\n    </tr>\n    <tr>\n      <th>...</th>\n      <td>...</td>\n      <td>...</td>\n      <td>...</td>\n      <td>...</td>\n      <td>...</td>\n      <td>...</td>\n    </tr>\n    <tr>\n      <th>195</th>\n      <td>muenchen-west</td>\n      <td>2020-10-21 07:00:00</td>\n      <td>5.0</td>\n      <td>0.0</td>\n      <td>6.27</td>\n      <td>Clouds</td>\n    </tr>\n    <tr>\n      <th>196</th>\n      <td>regensburg</td>\n      <td>2020-10-21 07:00:00</td>\n      <td>66.0</td>\n      <td>0.0</td>\n      <td>6.07</td>\n      <td>Clouds</td>\n    </tr>\n    <tr>\n      <th>197</th>\n      <td>muenchen-ost</td>\n      <td>2020-10-21 07:00:00</td>\n      <td>33.0</td>\n      <td>0.0</td>\n      <td>6.27</td>\n      <td>Clouds</td>\n    </tr>\n    <tr>\n      <th>198</th>\n      <td>frankfurt</td>\n      <td>2020-10-21 07:00:00</td>\n      <td>7.0</td>\n      <td>0.0</td>\n      <td>10.87</td>\n      <td>Rain</td>\n    </tr>\n    <tr>\n      <th>199</th>\n      <td>dortmund</td>\n      <td>2020-10-21 07:00:00</td>\n      <td>49.0</td>\n      <td>0.0</td>\n      <td>12.14</td>\n      <td>Rain</td>\n    </tr>\n  </tbody>\n</table>\n<p>175 rows × 6 columns</p>\n</div>"
     },
     "metadata": {},
     "execution_count": 114
    }
   ],
   "source": [
    "duplicateRowsDF.head(-305)"
   ]
  },
  {
   "source": [
    "- Here we can see that rows 25-199 are the originals, and rows 200-504 are the duplicates"
   ],
   "cell_type": "markdown",
   "metadata": {}
  },
  {
   "cell_type": "code",
   "execution_count": null,
   "metadata": {},
   "outputs": [],
   "source": []
  },
  {
   "cell_type": "code",
   "execution_count": null,
   "metadata": {},
   "outputs": [],
   "source": []
  },
  {
   "cell_type": "code",
   "execution_count": 132,
   "metadata": {},
   "outputs": [
    {
     "output_type": "execute_result",
     "data": {
      "text/plain": [
       "    current_time  occupancy  waiting  weather_temp weather_status\n",
       "33         15:00       32.0      0.0         12.90         Clouds\n",
       "208        15:00       32.0      0.0         12.90         Clouds\n",
       "29         16:00       32.0      0.0         11.84         Clouds\n",
       "204        16:00       32.0      0.0         11.84         Clouds\n",
       "21         19:30       32.0      0.0          9.38         Clouds"
      ],
      "text/html": "<div>\n<style scoped>\n    .dataframe tbody tr th:only-of-type {\n        vertical-align: middle;\n    }\n\n    .dataframe tbody tr th {\n        vertical-align: top;\n    }\n\n    .dataframe thead th {\n        text-align: right;\n    }\n</style>\n<table border=\"1\" class=\"dataframe\">\n  <thead>\n    <tr style=\"text-align: right;\">\n      <th></th>\n      <th>current_time</th>\n      <th>occupancy</th>\n      <th>waiting</th>\n      <th>weather_temp</th>\n      <th>weather_status</th>\n    </tr>\n  </thead>\n  <tbody>\n    <tr>\n      <th>33</th>\n      <td>15:00</td>\n      <td>32.0</td>\n      <td>0.0</td>\n      <td>12.90</td>\n      <td>Clouds</td>\n    </tr>\n    <tr>\n      <th>208</th>\n      <td>15:00</td>\n      <td>32.0</td>\n      <td>0.0</td>\n      <td>12.90</td>\n      <td>Clouds</td>\n    </tr>\n    <tr>\n      <th>29</th>\n      <td>16:00</td>\n      <td>32.0</td>\n      <td>0.0</td>\n      <td>11.84</td>\n      <td>Clouds</td>\n    </tr>\n    <tr>\n      <th>204</th>\n      <td>16:00</td>\n      <td>32.0</td>\n      <td>0.0</td>\n      <td>11.84</td>\n      <td>Clouds</td>\n    </tr>\n    <tr>\n      <th>21</th>\n      <td>19:30</td>\n      <td>32.0</td>\n      <td>0.0</td>\n      <td>9.38</td>\n      <td>Clouds</td>\n    </tr>\n  </tbody>\n</table>\n</div>"
     },
     "metadata": {},
     "execution_count": 132
    }
   ],
   "source": [
    "boulderdf = pd.read_csv(\"~/Developer/boulder/boulderdata.csv\")\n",
    "gym = \"muenchen-west\"\n",
    "selected_date = datetime.date(2020, 10, 28).strftime(\"%Y-%m-%d\")\n",
    "\n",
    "boulderdf['current_time'] = pd.to_datetime(boulderdf['current_time'])\n",
    "givendf = boulderdf[boulderdf.current_time.astype(str).str.contains(selected_date)]\n",
    "givendf = givendf[givendf['gym_name'] == gym]\n",
    "\n",
    "# transform date to hour and minute format\n",
    "givendf['current_time'] = pd.to_datetime(givendf['current_time'])\n",
    "givendf.drop(['gym_name'], inplace=True, axis=1)\n",
    "givendf['current_time'] = givendf['current_time'].dt.strftime('%H:%M')\n",
    "\n",
    "# sort the data by time\n",
    "givendf.sort_values(by=['current_time'], inplace=True)\n",
    "givendf.head()"
   ]
  },
  {
   "cell_type": "code",
   "execution_count": 127,
   "metadata": {},
   "outputs": [
    {
     "output_type": "execute_result",
     "data": {
      "text/plain": [
       "    current_time  occupancy  waiting  weather_temp weather_status\n",
       "33         15:00       32.0      0.0         12.90         Clouds\n",
       "208        15:00       32.0      0.0         12.90         Clouds\n",
       "29         16:00       32.0      0.0         11.84         Clouds\n",
       "204        16:00       32.0      0.0         11.84         Clouds\n",
       "21         19:30       32.0      0.0          9.38         Clouds"
      ],
      "text/html": "<div>\n<style scoped>\n    .dataframe tbody tr th:only-of-type {\n        vertical-align: middle;\n    }\n\n    .dataframe tbody tr th {\n        vertical-align: top;\n    }\n\n    .dataframe thead th {\n        text-align: right;\n    }\n</style>\n<table border=\"1\" class=\"dataframe\">\n  <thead>\n    <tr style=\"text-align: right;\">\n      <th></th>\n      <th>current_time</th>\n      <th>occupancy</th>\n      <th>waiting</th>\n      <th>weather_temp</th>\n      <th>weather_status</th>\n    </tr>\n  </thead>\n  <tbody>\n    <tr>\n      <th>33</th>\n      <td>15:00</td>\n      <td>32.0</td>\n      <td>0.0</td>\n      <td>12.90</td>\n      <td>Clouds</td>\n    </tr>\n    <tr>\n      <th>208</th>\n      <td>15:00</td>\n      <td>32.0</td>\n      <td>0.0</td>\n      <td>12.90</td>\n      <td>Clouds</td>\n    </tr>\n    <tr>\n      <th>29</th>\n      <td>16:00</td>\n      <td>32.0</td>\n      <td>0.0</td>\n      <td>11.84</td>\n      <td>Clouds</td>\n    </tr>\n    <tr>\n      <th>204</th>\n      <td>16:00</td>\n      <td>32.0</td>\n      <td>0.0</td>\n      <td>11.84</td>\n      <td>Clouds</td>\n    </tr>\n    <tr>\n      <th>21</th>\n      <td>19:30</td>\n      <td>32.0</td>\n      <td>0.0</td>\n      <td>9.38</td>\n      <td>Clouds</td>\n    </tr>\n  </tbody>\n</table>\n</div>"
     },
     "metadata": {},
     "execution_count": 127
    }
   ],
   "source": [
    "boulderdf = pd.read_csv(\"~/Developer/boulder/boulderdata.csv\")\n",
    "gym = \"muenchen-west\"\n",
    "selected_date = datetime.date(2020, 10, 28).strftime(\"%Y-%m-%d\")\n",
    "\n",
    "boulderdf['current_time'] = pd.to_datetime(boulderdf['current_time'])\n",
    "testdf = boulderdf[boulderdf.current_time.astype(str).str.contains(selected_date)]\n",
    "testdf = testdf[testdf['gym_name'] == gym]\n",
    "\n",
    "# testdf['current_time'] = testdf['current_time'].astype(dt).dt.strftime('%H:%M')\n",
    "testdf['current_time'] = pd.to_datetime(testdf['current_time']) #.dt.strftime('%H:%M')\n",
    "testdf.drop(['gym_name'], inplace=True, axis=1)\n",
    "testdf['current_time'] = testdf['current_time'].dt.strftime('%H:%M')\n",
    "\n",
    "# sort the data by time\n",
    "testdf.sort_values(by=['current_time'], inplace=True)\n",
    "testdf.head()"
   ]
  },
  {
   "cell_type": "code",
   "execution_count": null,
   "metadata": {},
   "outputs": [],
   "source": []
  },
  {
   "cell_type": "code",
   "execution_count": null,
   "metadata": {},
   "outputs": [],
   "source": []
  }
 ]
}